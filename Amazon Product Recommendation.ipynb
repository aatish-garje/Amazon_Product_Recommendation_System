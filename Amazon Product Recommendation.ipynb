{
 "cells": [
  {
   "cell_type": "code",
   "execution_count": 1,
   "id": "cb2cdda5",
   "metadata": {},
   "outputs": [],
   "source": [
    "import pandas as pd\n",
    "import seaborn as sns\n",
    "import matplotlib.pyplot as plt\n",
    "import numpy as np\n",
    "%matplotlib inline"
   ]
  },
  {
   "cell_type": "code",
   "execution_count": 3,
   "id": "79989f9b",
   "metadata": {},
   "outputs": [],
   "source": [
    "header_list = [\"userId\", \"productId\", \"Rating\", \"timestamp\"]\n",
    "df = pd.read_csv(\"E:\\\\backup\\\\OneDrive\\\\Desktop\\\\Data Science\\\\Project\\\\Recommendation\\\\ratings.csv\", names=header_list)"
   ]
  },
  {
   "cell_type": "code",
   "execution_count": 4,
   "id": "70ef7516",
   "metadata": {},
   "outputs": [
    {
     "data": {
      "text/html": [
       "<div>\n",
       "<style scoped>\n",
       "    .dataframe tbody tr th:only-of-type {\n",
       "        vertical-align: middle;\n",
       "    }\n",
       "\n",
       "    .dataframe tbody tr th {\n",
       "        vertical-align: top;\n",
       "    }\n",
       "\n",
       "    .dataframe thead th {\n",
       "        text-align: right;\n",
       "    }\n",
       "</style>\n",
       "<table border=\"1\" class=\"dataframe\">\n",
       "  <thead>\n",
       "    <tr style=\"text-align: right;\">\n",
       "      <th></th>\n",
       "      <th>userId</th>\n",
       "      <th>productId</th>\n",
       "      <th>Rating</th>\n",
       "      <th>timestamp</th>\n",
       "    </tr>\n",
       "  </thead>\n",
       "  <tbody>\n",
       "    <tr>\n",
       "      <th>0</th>\n",
       "      <td>AKM1MP6P0OYPR</td>\n",
       "      <td>0132793040</td>\n",
       "      <td>5.0</td>\n",
       "      <td>1365811200</td>\n",
       "    </tr>\n",
       "    <tr>\n",
       "      <th>1</th>\n",
       "      <td>A2CX7LUOHB2NDG</td>\n",
       "      <td>0321732944</td>\n",
       "      <td>5.0</td>\n",
       "      <td>1341100800</td>\n",
       "    </tr>\n",
       "    <tr>\n",
       "      <th>2</th>\n",
       "      <td>A2NWSAGRHCP8N5</td>\n",
       "      <td>0439886341</td>\n",
       "      <td>1.0</td>\n",
       "      <td>1367193600</td>\n",
       "    </tr>\n",
       "    <tr>\n",
       "      <th>3</th>\n",
       "      <td>A2WNBOD3WNDNKT</td>\n",
       "      <td>0439886341</td>\n",
       "      <td>3.0</td>\n",
       "      <td>1374451200</td>\n",
       "    </tr>\n",
       "    <tr>\n",
       "      <th>4</th>\n",
       "      <td>A1GI0U4ZRJA8WN</td>\n",
       "      <td>0439886341</td>\n",
       "      <td>1.0</td>\n",
       "      <td>1334707200</td>\n",
       "    </tr>\n",
       "    <tr>\n",
       "      <th>...</th>\n",
       "      <td>...</td>\n",
       "      <td>...</td>\n",
       "      <td>...</td>\n",
       "      <td>...</td>\n",
       "    </tr>\n",
       "    <tr>\n",
       "      <th>7824477</th>\n",
       "      <td>A2YZI3C9MOHC0L</td>\n",
       "      <td>BT008UKTMW</td>\n",
       "      <td>5.0</td>\n",
       "      <td>1396569600</td>\n",
       "    </tr>\n",
       "    <tr>\n",
       "      <th>7824478</th>\n",
       "      <td>A322MDK0M89RHN</td>\n",
       "      <td>BT008UKTMW</td>\n",
       "      <td>5.0</td>\n",
       "      <td>1313366400</td>\n",
       "    </tr>\n",
       "    <tr>\n",
       "      <th>7824479</th>\n",
       "      <td>A1MH90R0ADMIK0</td>\n",
       "      <td>BT008UKTMW</td>\n",
       "      <td>4.0</td>\n",
       "      <td>1404172800</td>\n",
       "    </tr>\n",
       "    <tr>\n",
       "      <th>7824480</th>\n",
       "      <td>A10M2KEFPEQDHN</td>\n",
       "      <td>BT008UKTMW</td>\n",
       "      <td>4.0</td>\n",
       "      <td>1297555200</td>\n",
       "    </tr>\n",
       "    <tr>\n",
       "      <th>7824481</th>\n",
       "      <td>A2G81TMIOIDEQQ</td>\n",
       "      <td>BT008V9J9U</td>\n",
       "      <td>5.0</td>\n",
       "      <td>1312675200</td>\n",
       "    </tr>\n",
       "  </tbody>\n",
       "</table>\n",
       "<p>7824482 rows × 4 columns</p>\n",
       "</div>"
      ],
      "text/plain": [
       "                 userId   productId  Rating   timestamp\n",
       "0         AKM1MP6P0OYPR  0132793040     5.0  1365811200\n",
       "1        A2CX7LUOHB2NDG  0321732944     5.0  1341100800\n",
       "2        A2NWSAGRHCP8N5  0439886341     1.0  1367193600\n",
       "3        A2WNBOD3WNDNKT  0439886341     3.0  1374451200\n",
       "4        A1GI0U4ZRJA8WN  0439886341     1.0  1334707200\n",
       "...                 ...         ...     ...         ...\n",
       "7824477  A2YZI3C9MOHC0L  BT008UKTMW     5.0  1396569600\n",
       "7824478  A322MDK0M89RHN  BT008UKTMW     5.0  1313366400\n",
       "7824479  A1MH90R0ADMIK0  BT008UKTMW     4.0  1404172800\n",
       "7824480  A10M2KEFPEQDHN  BT008UKTMW     4.0  1297555200\n",
       "7824481  A2G81TMIOIDEQQ  BT008V9J9U     5.0  1312675200\n",
       "\n",
       "[7824482 rows x 4 columns]"
      ]
     },
     "execution_count": 4,
     "metadata": {},
     "output_type": "execute_result"
    }
   ],
   "source": [
    "df"
   ]
  },
  {
   "cell_type": "code",
   "execution_count": 5,
   "id": "bff914cb",
   "metadata": {},
   "outputs": [],
   "source": [
    "df=df.drop('timestamp',axis=1)"
   ]
  },
  {
   "cell_type": "code",
   "execution_count": 6,
   "id": "e4b09897",
   "metadata": {},
   "outputs": [
    {
     "data": {
      "text/html": [
       "<div>\n",
       "<style scoped>\n",
       "    .dataframe tbody tr th:only-of-type {\n",
       "        vertical-align: middle;\n",
       "    }\n",
       "\n",
       "    .dataframe tbody tr th {\n",
       "        vertical-align: top;\n",
       "    }\n",
       "\n",
       "    .dataframe thead th {\n",
       "        text-align: right;\n",
       "    }\n",
       "</style>\n",
       "<table border=\"1\" class=\"dataframe\">\n",
       "  <thead>\n",
       "    <tr style=\"text-align: right;\">\n",
       "      <th></th>\n",
       "      <th>userId</th>\n",
       "      <th>productId</th>\n",
       "      <th>Rating</th>\n",
       "    </tr>\n",
       "  </thead>\n",
       "  <tbody>\n",
       "    <tr>\n",
       "      <th>0</th>\n",
       "      <td>AKM1MP6P0OYPR</td>\n",
       "      <td>0132793040</td>\n",
       "      <td>5.0</td>\n",
       "    </tr>\n",
       "    <tr>\n",
       "      <th>1</th>\n",
       "      <td>A2CX7LUOHB2NDG</td>\n",
       "      <td>0321732944</td>\n",
       "      <td>5.0</td>\n",
       "    </tr>\n",
       "    <tr>\n",
       "      <th>2</th>\n",
       "      <td>A2NWSAGRHCP8N5</td>\n",
       "      <td>0439886341</td>\n",
       "      <td>1.0</td>\n",
       "    </tr>\n",
       "    <tr>\n",
       "      <th>3</th>\n",
       "      <td>A2WNBOD3WNDNKT</td>\n",
       "      <td>0439886341</td>\n",
       "      <td>3.0</td>\n",
       "    </tr>\n",
       "    <tr>\n",
       "      <th>4</th>\n",
       "      <td>A1GI0U4ZRJA8WN</td>\n",
       "      <td>0439886341</td>\n",
       "      <td>1.0</td>\n",
       "    </tr>\n",
       "    <tr>\n",
       "      <th>...</th>\n",
       "      <td>...</td>\n",
       "      <td>...</td>\n",
       "      <td>...</td>\n",
       "    </tr>\n",
       "    <tr>\n",
       "      <th>7824477</th>\n",
       "      <td>A2YZI3C9MOHC0L</td>\n",
       "      <td>BT008UKTMW</td>\n",
       "      <td>5.0</td>\n",
       "    </tr>\n",
       "    <tr>\n",
       "      <th>7824478</th>\n",
       "      <td>A322MDK0M89RHN</td>\n",
       "      <td>BT008UKTMW</td>\n",
       "      <td>5.0</td>\n",
       "    </tr>\n",
       "    <tr>\n",
       "      <th>7824479</th>\n",
       "      <td>A1MH90R0ADMIK0</td>\n",
       "      <td>BT008UKTMW</td>\n",
       "      <td>4.0</td>\n",
       "    </tr>\n",
       "    <tr>\n",
       "      <th>7824480</th>\n",
       "      <td>A10M2KEFPEQDHN</td>\n",
       "      <td>BT008UKTMW</td>\n",
       "      <td>4.0</td>\n",
       "    </tr>\n",
       "    <tr>\n",
       "      <th>7824481</th>\n",
       "      <td>A2G81TMIOIDEQQ</td>\n",
       "      <td>BT008V9J9U</td>\n",
       "      <td>5.0</td>\n",
       "    </tr>\n",
       "  </tbody>\n",
       "</table>\n",
       "<p>7824482 rows × 3 columns</p>\n",
       "</div>"
      ],
      "text/plain": [
       "                 userId   productId  Rating\n",
       "0         AKM1MP6P0OYPR  0132793040     5.0\n",
       "1        A2CX7LUOHB2NDG  0321732944     5.0\n",
       "2        A2NWSAGRHCP8N5  0439886341     1.0\n",
       "3        A2WNBOD3WNDNKT  0439886341     3.0\n",
       "4        A1GI0U4ZRJA8WN  0439886341     1.0\n",
       "...                 ...         ...     ...\n",
       "7824477  A2YZI3C9MOHC0L  BT008UKTMW     5.0\n",
       "7824478  A322MDK0M89RHN  BT008UKTMW     5.0\n",
       "7824479  A1MH90R0ADMIK0  BT008UKTMW     4.0\n",
       "7824480  A10M2KEFPEQDHN  BT008UKTMW     4.0\n",
       "7824481  A2G81TMIOIDEQQ  BT008V9J9U     5.0\n",
       "\n",
       "[7824482 rows x 3 columns]"
      ]
     },
     "execution_count": 6,
     "metadata": {},
     "output_type": "execute_result"
    }
   ],
   "source": [
    "df.drop_duplicates()"
   ]
  },
  {
   "cell_type": "code",
   "execution_count": 7,
   "id": "60180912",
   "metadata": {},
   "outputs": [
    {
     "name": "stdout",
     "output_type": "stream",
     "text": [
      "<class 'pandas.core.frame.DataFrame'>\n",
      "RangeIndex: 7824482 entries, 0 to 7824481\n",
      "Data columns (total 3 columns):\n",
      " #   Column     Dtype  \n",
      "---  ------     -----  \n",
      " 0   userId     object \n",
      " 1   productId  object \n",
      " 2   Rating     float64\n",
      "dtypes: float64(1), object(2)\n",
      "memory usage: 179.1+ MB\n"
     ]
    }
   ],
   "source": [
    "df.info()"
   ]
  },
  {
   "cell_type": "code",
   "execution_count": 8,
   "id": "196dea01",
   "metadata": {},
   "outputs": [
    {
     "data": {
      "text/html": [
       "<div>\n",
       "<style scoped>\n",
       "    .dataframe tbody tr th:only-of-type {\n",
       "        vertical-align: middle;\n",
       "    }\n",
       "\n",
       "    .dataframe tbody tr th {\n",
       "        vertical-align: top;\n",
       "    }\n",
       "\n",
       "    .dataframe thead th {\n",
       "        text-align: right;\n",
       "    }\n",
       "</style>\n",
       "<table border=\"1\" class=\"dataframe\">\n",
       "  <thead>\n",
       "    <tr style=\"text-align: right;\">\n",
       "      <th></th>\n",
       "      <th>0</th>\n",
       "    </tr>\n",
       "  </thead>\n",
       "  <tbody>\n",
       "    <tr>\n",
       "      <th>0</th>\n",
       "      <td>0132793040</td>\n",
       "    </tr>\n",
       "    <tr>\n",
       "      <th>1</th>\n",
       "      <td>0321732944</td>\n",
       "    </tr>\n",
       "    <tr>\n",
       "      <th>2</th>\n",
       "      <td>0439886341</td>\n",
       "    </tr>\n",
       "    <tr>\n",
       "      <th>3</th>\n",
       "      <td>0511189877</td>\n",
       "    </tr>\n",
       "    <tr>\n",
       "      <th>4</th>\n",
       "      <td>0528881469</td>\n",
       "    </tr>\n",
       "    <tr>\n",
       "      <th>...</th>\n",
       "      <td>...</td>\n",
       "    </tr>\n",
       "    <tr>\n",
       "      <th>475997</th>\n",
       "      <td>BT008G3W52</td>\n",
       "    </tr>\n",
       "    <tr>\n",
       "      <th>475998</th>\n",
       "      <td>BT008SXQ4C</td>\n",
       "    </tr>\n",
       "    <tr>\n",
       "      <th>475999</th>\n",
       "      <td>BT008T2BGK</td>\n",
       "    </tr>\n",
       "    <tr>\n",
       "      <th>476000</th>\n",
       "      <td>BT008UKTMW</td>\n",
       "    </tr>\n",
       "    <tr>\n",
       "      <th>476001</th>\n",
       "      <td>BT008V9J9U</td>\n",
       "    </tr>\n",
       "  </tbody>\n",
       "</table>\n",
       "<p>476002 rows × 1 columns</p>\n",
       "</div>"
      ],
      "text/plain": [
       "                 0\n",
       "0       0132793040\n",
       "1       0321732944\n",
       "2       0439886341\n",
       "3       0511189877\n",
       "4       0528881469\n",
       "...            ...\n",
       "475997  BT008G3W52\n",
       "475998  BT008SXQ4C\n",
       "475999  BT008T2BGK\n",
       "476000  BT008UKTMW\n",
       "476001  BT008V9J9U\n",
       "\n",
       "[476002 rows x 1 columns]"
      ]
     },
     "execution_count": 8,
     "metadata": {},
     "output_type": "execute_result"
    }
   ],
   "source": [
    "data=df.productId.unique()\n",
    "data=pd.DataFrame(data)\n",
    "data"
   ]
  },
  {
   "cell_type": "code",
   "execution_count": 9,
   "id": "5fc8579b",
   "metadata": {},
   "outputs": [
    {
     "data": {
      "text/plain": [
       "(476002,)"
      ]
     },
     "execution_count": 9,
     "metadata": {},
     "output_type": "execute_result"
    }
   ],
   "source": [
    "df.productId.unique().shape"
   ]
  },
  {
   "cell_type": "code",
   "execution_count": 10,
   "id": "f95ef6bf",
   "metadata": {},
   "outputs": [
    {
     "data": {
      "text/plain": [
       "(7824482, 3)"
      ]
     },
     "execution_count": 10,
     "metadata": {},
     "output_type": "execute_result"
    }
   ],
   "source": [
    "df.shape"
   ]
  },
  {
   "cell_type": "code",
   "execution_count": 11,
   "id": "aa37b2b3",
   "metadata": {},
   "outputs": [
    {
     "data": {
      "text/plain": [
       "userId       False\n",
       "productId    False\n",
       "Rating       False\n",
       "dtype: bool"
      ]
     },
     "execution_count": 11,
     "metadata": {},
     "output_type": "execute_result"
    }
   ],
   "source": [
    "df.isnull().any()"
   ]
  },
  {
   "cell_type": "code",
   "execution_count": 12,
   "id": "f5424417",
   "metadata": {},
   "outputs": [],
   "source": [
    "df1=df.iloc[:1000000,]"
   ]
  },
  {
   "cell_type": "code",
   "execution_count": 13,
   "id": "0ec42581",
   "metadata": {},
   "outputs": [
    {
     "data": {
      "text/html": [
       "<div>\n",
       "<style scoped>\n",
       "    .dataframe tbody tr th:only-of-type {\n",
       "        vertical-align: middle;\n",
       "    }\n",
       "\n",
       "    .dataframe tbody tr th {\n",
       "        vertical-align: top;\n",
       "    }\n",
       "\n",
       "    .dataframe thead th {\n",
       "        text-align: right;\n",
       "    }\n",
       "</style>\n",
       "<table border=\"1\" class=\"dataframe\">\n",
       "  <thead>\n",
       "    <tr style=\"text-align: right;\">\n",
       "      <th></th>\n",
       "      <th>userId</th>\n",
       "      <th>productId</th>\n",
       "      <th>Rating</th>\n",
       "    </tr>\n",
       "  </thead>\n",
       "  <tbody>\n",
       "    <tr>\n",
       "      <th>0</th>\n",
       "      <td>AKM1MP6P0OYPR</td>\n",
       "      <td>0132793040</td>\n",
       "      <td>5.0</td>\n",
       "    </tr>\n",
       "    <tr>\n",
       "      <th>1</th>\n",
       "      <td>A2CX7LUOHB2NDG</td>\n",
       "      <td>0321732944</td>\n",
       "      <td>5.0</td>\n",
       "    </tr>\n",
       "    <tr>\n",
       "      <th>2</th>\n",
       "      <td>A2NWSAGRHCP8N5</td>\n",
       "      <td>0439886341</td>\n",
       "      <td>1.0</td>\n",
       "    </tr>\n",
       "    <tr>\n",
       "      <th>3</th>\n",
       "      <td>A2WNBOD3WNDNKT</td>\n",
       "      <td>0439886341</td>\n",
       "      <td>3.0</td>\n",
       "    </tr>\n",
       "    <tr>\n",
       "      <th>4</th>\n",
       "      <td>A1GI0U4ZRJA8WN</td>\n",
       "      <td>0439886341</td>\n",
       "      <td>1.0</td>\n",
       "    </tr>\n",
       "    <tr>\n",
       "      <th>...</th>\n",
       "      <td>...</td>\n",
       "      <td>...</td>\n",
       "      <td>...</td>\n",
       "    </tr>\n",
       "    <tr>\n",
       "      <th>999995</th>\n",
       "      <td>A2OC5SYI7THCR6</td>\n",
       "      <td>B000HDU0Q4</td>\n",
       "      <td>5.0</td>\n",
       "    </tr>\n",
       "    <tr>\n",
       "      <th>999996</th>\n",
       "      <td>ALWL0AJ94O8RJ</td>\n",
       "      <td>B000HDU0Q4</td>\n",
       "      <td>5.0</td>\n",
       "    </tr>\n",
       "    <tr>\n",
       "      <th>999997</th>\n",
       "      <td>A1XTY9T4FYKT7S</td>\n",
       "      <td>B000HDU0Q4</td>\n",
       "      <td>4.0</td>\n",
       "    </tr>\n",
       "    <tr>\n",
       "      <th>999998</th>\n",
       "      <td>AC4IGGPO6HY0M</td>\n",
       "      <td>B000HDU0Q4</td>\n",
       "      <td>2.0</td>\n",
       "    </tr>\n",
       "    <tr>\n",
       "      <th>999999</th>\n",
       "      <td>AUPNX6P6DQCT1</td>\n",
       "      <td>B000HDU0Q4</td>\n",
       "      <td>5.0</td>\n",
       "    </tr>\n",
       "  </tbody>\n",
       "</table>\n",
       "<p>1000000 rows × 3 columns</p>\n",
       "</div>"
      ],
      "text/plain": [
       "                userId   productId  Rating\n",
       "0        AKM1MP6P0OYPR  0132793040     5.0\n",
       "1       A2CX7LUOHB2NDG  0321732944     5.0\n",
       "2       A2NWSAGRHCP8N5  0439886341     1.0\n",
       "3       A2WNBOD3WNDNKT  0439886341     3.0\n",
       "4       A1GI0U4ZRJA8WN  0439886341     1.0\n",
       "...                ...         ...     ...\n",
       "999995  A2OC5SYI7THCR6  B000HDU0Q4     5.0\n",
       "999996   ALWL0AJ94O8RJ  B000HDU0Q4     5.0\n",
       "999997  A1XTY9T4FYKT7S  B000HDU0Q4     4.0\n",
       "999998   AC4IGGPO6HY0M  B000HDU0Q4     2.0\n",
       "999999   AUPNX6P6DQCT1  B000HDU0Q4     5.0\n",
       "\n",
       "[1000000 rows x 3 columns]"
      ]
     },
     "execution_count": 13,
     "metadata": {},
     "output_type": "execute_result"
    }
   ],
   "source": [
    "df1"
   ]
  },
  {
   "cell_type": "code",
   "execution_count": 14,
   "id": "f43623cd",
   "metadata": {},
   "outputs": [
    {
     "data": {
      "text/plain": [
       "count    1000000.000000\n",
       "mean           3.973620\n",
       "std            1.399741\n",
       "min            1.000000\n",
       "25%            3.000000\n",
       "50%            5.000000\n",
       "75%            5.000000\n",
       "max            5.000000\n",
       "Name: Rating, dtype: float64"
      ]
     },
     "execution_count": 14,
     "metadata": {},
     "output_type": "execute_result"
    }
   ],
   "source": [
    "df1.describe()['Rating'].T"
   ]
  },
  {
   "cell_type": "code",
   "execution_count": 15,
   "id": "d2ab9924",
   "metadata": {},
   "outputs": [
    {
     "name": "stderr",
     "output_type": "stream",
     "text": [
      "E:\\softwares\\Anaconda\\lib\\site-packages\\seaborn\\categorical.py:3717: UserWarning: The `factorplot` function has been renamed to `catplot`. The original name will be removed in a future release. Please update your code. Note that the default `kind` in `factorplot` (`'point'`) has changed `'strip'` in `catplot`.\n",
      "  warnings.warn(msg)\n",
      "E:\\softwares\\Anaconda\\lib\\site-packages\\seaborn\\_decorators.py:36: FutureWarning: Pass the following variable as a keyword arg: x. From version 0.12, the only valid positional argument will be `data`, and passing other arguments without an explicit keyword will result in an error or misinterpretation.\n",
      "  warnings.warn(\n"
     ]
    },
    {
     "data": {
      "image/png": "[encoded data removed]",
      "text/plain": [
       "<Figure size 720x360 with 1 Axes>"
      ]
     },
     "metadata": {},
     "output_type": "display_data"
    }
   ],
   "source": [
    "with sns.axes_style('white'):\n",
    "    rate = sns.factorplot(\"Rating\", data=df1, aspect=2.0,kind='count')\n",
    "    rate.set_ylabels(\"Number of Ratings\")"
   ]
  },
  {
   "cell_type": "code",
   "execution_count": 16,
   "id": "46529df4",
   "metadata": {},
   "outputs": [
    {
     "name": "stdout",
     "output_type": "stream",
     "text": [
      "Total Data\n",
      "Total No of Ratings : 1000000\n",
      "Total No of Users : 754153\n",
      "Total No of Products : 59634\n"
     ]
    }
   ],
   "source": [
    "print(\"Total Data\")\n",
    "\n",
    "print(\"Total No of Ratings :\",df1.shape[0])\n",
    "print(\"Total No of Users :\",len(np.unique(df1.userId)))\n",
    "print(\"Total No of Products :\",len(np.unique(df1.productId)))"
   ]
  },
  {
   "cell_type": "code",
   "execution_count": 17,
   "id": "8ee0a469",
   "metadata": {},
   "outputs": [
    {
     "data": {
      "text/plain": [
       "userId\n",
       "A5JLAU2ARJ0BO     409\n",
       "A231WM2Z2JL0U3    249\n",
       "A25HBO5V8S8SEA    164\n",
       "A6FIAB28IS79      138\n",
       "AT6CZDCP4TRGA     125\n",
       "                 ... \n",
       "A2DKIW4WMCXCC7      1\n",
       "A2DKJTBLJ47Y0M      1\n",
       "A2DKJW3JKVYEDB      1\n",
       "A2DKJWEQ7D6FM7      1\n",
       "AZZZOVIBXHGDR       1\n",
       "Name: Rating, Length: 754153, dtype: int64"
      ]
     },
     "execution_count": 17,
     "metadata": {},
     "output_type": "execute_result"
    }
   ],
   "source": [
    "No_of_Rated_Products_per_User = df1.groupby(by='userId')['Rating'].count().sort_values(ascending=False)\n",
    "No_of_Rated_Products_per_User"
   ]
  },
  {
   "cell_type": "code",
   "execution_count": 18,
   "id": "6488fc4e",
   "metadata": {},
   "outputs": [
    {
     "data": {
      "text/plain": [
       "count    754153.000000\n",
       "mean          1.325991\n",
       "std           1.372250\n",
       "min           1.000000\n",
       "25%           1.000000\n",
       "50%           1.000000\n",
       "75%           1.000000\n",
       "max         409.000000\n",
       "Name: Rating, dtype: float64"
      ]
     },
     "execution_count": 18,
     "metadata": {},
     "output_type": "execute_result"
    }
   ],
   "source": [
    "No_of_Rated_Products_per_User.describe()"
   ]
  },
  {
   "cell_type": "code",
   "execution_count": 19,
   "id": "efef69cb",
   "metadata": {},
   "outputs": [
    {
     "name": "stdout",
     "output_type": "stream",
     "text": [
      " No of Rated Product More than 50 per User : 37\n"
     ]
    }
   ],
   "source": [
    "print(' No of Rated Product More than 50 per User : {}'.format(sum(No_of_Rated_Products_per_User >= 50)))"
   ]
  },
  {
   "cell_type": "code",
   "execution_count": 20,
   "id": "ed27c593",
   "metadata": {},
   "outputs": [],
   "source": [
    "df2=df1.groupby(\"productId\").filter(lambda x:x['Rating'].count() >=50)"
   ]
  },
  {
   "cell_type": "code",
   "execution_count": 21,
   "id": "071ce835",
   "metadata": {},
   "outputs": [
    {
     "data": {
      "text/plain": [
       "productId\n",
       "0972683275    4.470980\n",
       "1400501466    3.560000\n",
       "1400501520    4.243902\n",
       "1400501776    3.884892\n",
       "1400532620    3.684211\n",
       "                ...   \n",
       "B000HDMUU8    4.543860\n",
       "B000HDONV2    4.507042\n",
       "B000HDONWQ    3.981818\n",
       "B000HDQ2G6    4.408805\n",
       "B000HDU0Q4    4.408451\n",
       "Name: Rating, Length: 3639, dtype: float64"
      ]
     },
     "execution_count": 21,
     "metadata": {},
     "output_type": "execute_result"
    }
   ],
   "source": [
    "df2.groupby('productId')['Rating'].mean()"
   ]
  },
  {
   "cell_type": "code",
   "execution_count": 22,
   "id": "b1bd40e0",
   "metadata": {},
   "outputs": [
    {
     "data": {
      "text/plain": [
       "productId\n",
       "B0000DYV9H    4.947368\n",
       "B000053HC5    4.945783\n",
       "B00009R96C    4.885714\n",
       "B00005LE76    4.879310\n",
       "B0002E52S4    4.861111\n",
       "                ...   \n",
       "B00093040Y    1.568627\n",
       "B0002325XK    1.531250\n",
       "B00020QJC6    1.500000\n",
       "B000C4ATGY    1.360000\n",
       "B00024L6P2    1.203704\n",
       "Name: Rating, Length: 3639, dtype: float64"
      ]
     },
     "execution_count": 22,
     "metadata": {},
     "output_type": "execute_result"
    }
   ],
   "source": [
    "df2.groupby('productId')['Rating'].mean().sort_values(ascending=False)"
   ]
  },
  {
   "cell_type": "code",
   "execution_count": 23,
   "id": "68d1c1de",
   "metadata": {},
   "outputs": [
    {
     "data": {
      "text/plain": [
       "productId\n",
       "B0002L5R78    9487\n",
       "B0001FTVEK    5345\n",
       "B000BQ7GW8    4275\n",
       "B00007E7JU    3523\n",
       "B000BKJZ9Q    3219\n",
       "              ... \n",
       "B00008JOMD      50\n",
       "B00020E4QO      50\n",
       "B0000CG4DI      50\n",
       "B0006ZO2CG      50\n",
       "B000FOI2TW      50\n",
       "Name: Rating, Length: 3639, dtype: int64"
      ]
     },
     "execution_count": 23,
     "metadata": {},
     "output_type": "execute_result"
    }
   ],
   "source": [
    "df2.groupby('productId')['Rating'].count().sort_values(ascending=False)"
   ]
  },
  {
   "cell_type": "code",
   "execution_count": 24,
   "id": "649290f5",
   "metadata": {},
   "outputs": [],
   "source": [
    "Ratings_values = pd.DataFrame(df2.groupby('productId')['Rating'].mean())"
   ]
  },
  {
   "cell_type": "code",
   "execution_count": 25,
   "id": "47ca8417",
   "metadata": {},
   "outputs": [],
   "source": [
    "Ratings_values['Count'] = pd.DataFrame(df2.groupby('productId')['Rating'].count())"
   ]
  },
  {
   "cell_type": "code",
   "execution_count": 26,
   "id": "a9cd7c7a",
   "metadata": {},
   "outputs": [
    {
     "data": {
      "text/html": [
       "<div>\n",
       "<style scoped>\n",
       "    .dataframe tbody tr th:only-of-type {\n",
       "        vertical-align: middle;\n",
       "    }\n",
       "\n",
       "    .dataframe tbody tr th {\n",
       "        vertical-align: top;\n",
       "    }\n",
       "\n",
       "    .dataframe thead th {\n",
       "        text-align: right;\n",
       "    }\n",
       "</style>\n",
       "<table border=\"1\" class=\"dataframe\">\n",
       "  <thead>\n",
       "    <tr style=\"text-align: right;\">\n",
       "      <th></th>\n",
       "      <th>Rating</th>\n",
       "      <th>Count</th>\n",
       "    </tr>\n",
       "    <tr>\n",
       "      <th>productId</th>\n",
       "      <th></th>\n",
       "      <th></th>\n",
       "    </tr>\n",
       "  </thead>\n",
       "  <tbody>\n",
       "    <tr>\n",
       "      <th>0972683275</th>\n",
       "      <td>4.470980</td>\n",
       "      <td>1051</td>\n",
       "    </tr>\n",
       "    <tr>\n",
       "      <th>1400501466</th>\n",
       "      <td>3.560000</td>\n",
       "      <td>250</td>\n",
       "    </tr>\n",
       "    <tr>\n",
       "      <th>1400501520</th>\n",
       "      <td>4.243902</td>\n",
       "      <td>82</td>\n",
       "    </tr>\n",
       "    <tr>\n",
       "      <th>1400501776</th>\n",
       "      <td>3.884892</td>\n",
       "      <td>139</td>\n",
       "    </tr>\n",
       "    <tr>\n",
       "      <th>1400532620</th>\n",
       "      <td>3.684211</td>\n",
       "      <td>171</td>\n",
       "    </tr>\n",
       "    <tr>\n",
       "      <th>...</th>\n",
       "      <td>...</td>\n",
       "      <td>...</td>\n",
       "    </tr>\n",
       "    <tr>\n",
       "      <th>B000HDMUU8</th>\n",
       "      <td>4.543860</td>\n",
       "      <td>57</td>\n",
       "    </tr>\n",
       "    <tr>\n",
       "      <th>B000HDONV2</th>\n",
       "      <td>4.507042</td>\n",
       "      <td>71</td>\n",
       "    </tr>\n",
       "    <tr>\n",
       "      <th>B000HDONWQ</th>\n",
       "      <td>3.981818</td>\n",
       "      <td>55</td>\n",
       "    </tr>\n",
       "    <tr>\n",
       "      <th>B000HDQ2G6</th>\n",
       "      <td>4.408805</td>\n",
       "      <td>159</td>\n",
       "    </tr>\n",
       "    <tr>\n",
       "      <th>B000HDU0Q4</th>\n",
       "      <td>4.408451</td>\n",
       "      <td>71</td>\n",
       "    </tr>\n",
       "  </tbody>\n",
       "</table>\n",
       "<p>3639 rows × 2 columns</p>\n",
       "</div>"
      ],
      "text/plain": [
       "              Rating  Count\n",
       "productId                  \n",
       "0972683275  4.470980   1051\n",
       "1400501466  3.560000    250\n",
       "1400501520  4.243902     82\n",
       "1400501776  3.884892    139\n",
       "1400532620  3.684211    171\n",
       "...              ...    ...\n",
       "B000HDMUU8  4.543860     57\n",
       "B000HDONV2  4.507042     71\n",
       "B000HDONWQ  3.981818     55\n",
       "B000HDQ2G6  4.408805    159\n",
       "B000HDU0Q4  4.408451     71\n",
       "\n",
       "[3639 rows x 2 columns]"
      ]
     },
     "execution_count": 26,
     "metadata": {},
     "output_type": "execute_result"
    }
   ],
   "source": [
    "Ratings_values"
   ]
  },
  {
   "cell_type": "code",
   "execution_count": 27,
   "id": "41d6164e",
   "metadata": {},
   "outputs": [
    {
     "data": {
      "text/plain": [
       "Text(0, 0.5, 'Values')"
      ]
     },
     "execution_count": 27,
     "metadata": {},
     "output_type": "execute_result"
    },
    {
     "data": {
      "image/png": "[encoded data removed]",
      "text/plain": [
       "<Figure size 720x576 with 1 Axes>"
      ]
     },
     "metadata": {
      "needs_background": "light"
     },
     "output_type": "display_data"
    }
   ],
   "source": [
    "plt.figure(figsize=(10,8))\n",
    "plt.rcParams['patch.force_edgecolor'] = True\n",
    "hist_count=Ratings_values['Count'].hist(bins=30)\n",
    "hist_count.set_xlabel('Count')\n",
    "hist_count.set_ylabel('Values')"
   ]
  },
  {
   "cell_type": "code",
   "execution_count": 28,
   "id": "a9ace1f4",
   "metadata": {},
   "outputs": [
    {
     "data": {
      "text/plain": [
       "Text(0, 0.5, 'Values')"
      ]
     },
     "execution_count": 28,
     "metadata": {},
     "output_type": "execute_result"
    },
    {
     "data": {
      "image/png": "[encoded data removed]",
      "text/plain": [
       "<Figure size 720x576 with 1 Axes>"
      ]
     },
     "metadata": {
      "needs_background": "light"
     },
     "output_type": "display_data"
    }
   ],
   "source": [
    "plt.figure(figsize=(10,8))\n",
    "plt.rcParams['patch.force_edgecolor'] = True\n",
    "hist_rating=Ratings_values['Rating'].hist(bins=50)\n",
    "hist_rating.set_xlabel('Rating')\n",
    "hist_rating.set_ylabel('Values')"
   ]
  },
  {
   "cell_type": "code",
   "execution_count": 29,
   "id": "27247e1e",
   "metadata": {},
   "outputs": [
    {
     "data": {
      "text/plain": [
       "<seaborn.axisgrid.JointGrid at 0x25b00b80520>"
      ]
     },
     "execution_count": 29,
     "metadata": {},
     "output_type": "execute_result"
    },
    {
     "data": {
      "text/plain": [
       "<Figure size 720x576 with 0 Axes>"
      ]
     },
     "metadata": {},
     "output_type": "display_data"
    },
    {
     "data": {
      "image/png": "[encoded data removed]",
      "text/plain": [
       "<Figure size 432x432 with 3 Axes>"
      ]
     },
     "metadata": {
      "needs_background": "light"
     },
     "output_type": "display_data"
    }
   ],
   "source": [
    "plt.figure(figsize=(10,8))\n",
    "plt.rcParams['patch.force_edgecolor'] = True\n",
    "sns.jointplot(x='Rating',y='Count', data=Ratings_values)"
   ]
  },
  {
   "cell_type": "code",
   "execution_count": 19,
   "id": "bf25aa2c",
   "metadata": {},
   "outputs": [],
   "source": [
    "df3=df.groupby(\"userId\").filter(lambda x:x['Rating'].count() >=50)"
   ]
  },
  {
   "cell_type": "code",
   "execution_count": 20,
   "id": "1ab740d4",
   "metadata": {},
   "outputs": [
    {
     "data": {
      "text/html": [
       "<div>\n",
       "<style scoped>\n",
       "    .dataframe tbody tr th:only-of-type {\n",
       "        vertical-align: middle;\n",
       "    }\n",
       "\n",
       "    .dataframe tbody tr th {\n",
       "        vertical-align: top;\n",
       "    }\n",
       "\n",
       "    .dataframe thead th {\n",
       "        text-align: right;\n",
       "    }\n",
       "</style>\n",
       "<table border=\"1\" class=\"dataframe\">\n",
       "  <thead>\n",
       "    <tr style=\"text-align: right;\">\n",
       "      <th></th>\n",
       "      <th>userId</th>\n",
       "      <th>productId</th>\n",
       "      <th>Rating</th>\n",
       "    </tr>\n",
       "  </thead>\n",
       "  <tbody>\n",
       "    <tr>\n",
       "      <th>94</th>\n",
       "      <td>A3BY5KCNQZXV5U</td>\n",
       "      <td>0594451647</td>\n",
       "      <td>5.0</td>\n",
       "    </tr>\n",
       "    <tr>\n",
       "      <th>118</th>\n",
       "      <td>AT09WGFUM934H</td>\n",
       "      <td>0594481813</td>\n",
       "      <td>3.0</td>\n",
       "    </tr>\n",
       "    <tr>\n",
       "      <th>177</th>\n",
       "      <td>A32HSNCNPRUMTR</td>\n",
       "      <td>0970407998</td>\n",
       "      <td>1.0</td>\n",
       "    </tr>\n",
       "    <tr>\n",
       "      <th>178</th>\n",
       "      <td>A17HMM1M7T9PJ1</td>\n",
       "      <td>0970407998</td>\n",
       "      <td>4.0</td>\n",
       "    </tr>\n",
       "    <tr>\n",
       "      <th>492</th>\n",
       "      <td>A3CLWR1UUZT6TG</td>\n",
       "      <td>0972683275</td>\n",
       "      <td>5.0</td>\n",
       "    </tr>\n",
       "    <tr>\n",
       "      <th>...</th>\n",
       "      <td>...</td>\n",
       "      <td>...</td>\n",
       "      <td>...</td>\n",
       "    </tr>\n",
       "    <tr>\n",
       "      <th>7824426</th>\n",
       "      <td>A1E1LEVQ9VQNK</td>\n",
       "      <td>B00LGQ6HL8</td>\n",
       "      <td>5.0</td>\n",
       "    </tr>\n",
       "    <tr>\n",
       "      <th>7824427</th>\n",
       "      <td>A2NYK9KWFMJV4Y</td>\n",
       "      <td>B00LGQ6HL8</td>\n",
       "      <td>5.0</td>\n",
       "    </tr>\n",
       "    <tr>\n",
       "      <th>7824436</th>\n",
       "      <td>A3AYSYSLHU26U9</td>\n",
       "      <td>B00LI4ZZO8</td>\n",
       "      <td>4.0</td>\n",
       "    </tr>\n",
       "    <tr>\n",
       "      <th>7824438</th>\n",
       "      <td>A2NYK9KWFMJV4Y</td>\n",
       "      <td>B00LI4ZZO8</td>\n",
       "      <td>5.0</td>\n",
       "    </tr>\n",
       "    <tr>\n",
       "      <th>7824444</th>\n",
       "      <td>A2BYV7S1QP2YIG</td>\n",
       "      <td>B00LKG1MC8</td>\n",
       "      <td>5.0</td>\n",
       "    </tr>\n",
       "  </tbody>\n",
       "</table>\n",
       "<p>125871 rows × 3 columns</p>\n",
       "</div>"
      ],
      "text/plain": [
       "                 userId   productId  Rating\n",
       "94       A3BY5KCNQZXV5U  0594451647     5.0\n",
       "118       AT09WGFUM934H  0594481813     3.0\n",
       "177      A32HSNCNPRUMTR  0970407998     1.0\n",
       "178      A17HMM1M7T9PJ1  0970407998     4.0\n",
       "492      A3CLWR1UUZT6TG  0972683275     5.0\n",
       "...                 ...         ...     ...\n",
       "7824426   A1E1LEVQ9VQNK  B00LGQ6HL8     5.0\n",
       "7824427  A2NYK9KWFMJV4Y  B00LGQ6HL8     5.0\n",
       "7824436  A3AYSYSLHU26U9  B00LI4ZZO8     4.0\n",
       "7824438  A2NYK9KWFMJV4Y  B00LI4ZZO8     5.0\n",
       "7824444  A2BYV7S1QP2YIG  B00LKG1MC8     5.0\n",
       "\n",
       "[125871 rows x 3 columns]"
      ]
     },
     "execution_count": 20,
     "metadata": {},
     "output_type": "execute_result"
    }
   ],
   "source": [
    "df3"
   ]
  },
  {
   "cell_type": "code",
   "execution_count": 33,
   "id": "220a159c",
   "metadata": {},
   "outputs": [],
   "source": [
    "df4=df3.groupby(\"productId\").filter(lambda x:x['Rating'].count() >=25)"
   ]
  },
  {
   "cell_type": "code",
   "execution_count": 34,
   "id": "b7124de6",
   "metadata": {},
   "outputs": [
    {
     "data": {
      "text/html": [
       "<div>\n",
       "<style scoped>\n",
       "    .dataframe tbody tr th:only-of-type {\n",
       "        vertical-align: middle;\n",
       "    }\n",
       "\n",
       "    .dataframe tbody tr th {\n",
       "        vertical-align: top;\n",
       "    }\n",
       "\n",
       "    .dataframe thead th {\n",
       "        text-align: right;\n",
       "    }\n",
       "</style>\n",
       "<table border=\"1\" class=\"dataframe\">\n",
       "  <thead>\n",
       "    <tr style=\"text-align: right;\">\n",
       "      <th></th>\n",
       "      <th>userId</th>\n",
       "      <th>productId</th>\n",
       "      <th>Rating</th>\n",
       "    </tr>\n",
       "  </thead>\n",
       "  <tbody>\n",
       "    <tr>\n",
       "      <th>72043</th>\n",
       "      <td>A2YRX8J4WM5BRX</td>\n",
       "      <td>B00004ZCJE</td>\n",
       "      <td>5.0</td>\n",
       "    </tr>\n",
       "    <tr>\n",
       "      <th>72059</th>\n",
       "      <td>AU627A4UGIW6V</td>\n",
       "      <td>B00004ZCJE</td>\n",
       "      <td>5.0</td>\n",
       "    </tr>\n",
       "    <tr>\n",
       "      <th>72077</th>\n",
       "      <td>A16RL0RMRF974O</td>\n",
       "      <td>B00004ZCJE</td>\n",
       "      <td>5.0</td>\n",
       "    </tr>\n",
       "    <tr>\n",
       "      <th>72121</th>\n",
       "      <td>AR8LWDT6TUKNZ</td>\n",
       "      <td>B00004ZCJE</td>\n",
       "      <td>5.0</td>\n",
       "    </tr>\n",
       "    <tr>\n",
       "      <th>72122</th>\n",
       "      <td>AD9ZL63H0VKCZ</td>\n",
       "      <td>B00004ZCJE</td>\n",
       "      <td>5.0</td>\n",
       "    </tr>\n",
       "    <tr>\n",
       "      <th>...</th>\n",
       "      <td>...</td>\n",
       "      <td>...</td>\n",
       "      <td>...</td>\n",
       "    </tr>\n",
       "    <tr>\n",
       "      <th>7820340</th>\n",
       "      <td>AIJQU979J6UFY</td>\n",
       "      <td>B00K91DB7Y</td>\n",
       "      <td>4.0</td>\n",
       "    </tr>\n",
       "    <tr>\n",
       "      <th>7820346</th>\n",
       "      <td>ALDAF4VVLFRHP</td>\n",
       "      <td>B00K91DB7Y</td>\n",
       "      <td>4.0</td>\n",
       "    </tr>\n",
       "    <tr>\n",
       "      <th>7820356</th>\n",
       "      <td>A1BT6TL7UCIC5Y</td>\n",
       "      <td>B00K91DB7Y</td>\n",
       "      <td>5.0</td>\n",
       "    </tr>\n",
       "    <tr>\n",
       "      <th>7820367</th>\n",
       "      <td>A3M7BCQKSQAK4L</td>\n",
       "      <td>B00K91DB7Y</td>\n",
       "      <td>5.0</td>\n",
       "    </tr>\n",
       "    <tr>\n",
       "      <th>7820385</th>\n",
       "      <td>A3D5B2CBFNJB0K</td>\n",
       "      <td>B00K91DB7Y</td>\n",
       "      <td>3.0</td>\n",
       "    </tr>\n",
       "  </tbody>\n",
       "</table>\n",
       "<p>16666 rows × 3 columns</p>\n",
       "</div>"
      ],
      "text/plain": [
       "                 userId   productId  Rating\n",
       "72043    A2YRX8J4WM5BRX  B00004ZCJE     5.0\n",
       "72059     AU627A4UGIW6V  B00004ZCJE     5.0\n",
       "72077    A16RL0RMRF974O  B00004ZCJE     5.0\n",
       "72121     AR8LWDT6TUKNZ  B00004ZCJE     5.0\n",
       "72122     AD9ZL63H0VKCZ  B00004ZCJE     5.0\n",
       "...                 ...         ...     ...\n",
       "7820340   AIJQU979J6UFY  B00K91DB7Y     4.0\n",
       "7820346   ALDAF4VVLFRHP  B00K91DB7Y     4.0\n",
       "7820356  A1BT6TL7UCIC5Y  B00K91DB7Y     5.0\n",
       "7820367  A3M7BCQKSQAK4L  B00K91DB7Y     5.0\n",
       "7820385  A3D5B2CBFNJB0K  B00K91DB7Y     3.0\n",
       "\n",
       "[16666 rows x 3 columns]"
      ]
     },
     "execution_count": 34,
     "metadata": {},
     "output_type": "execute_result"
    }
   ],
   "source": [
    "df4"
   ]
  },
  {
   "cell_type": "code",
   "execution_count": 35,
   "id": "7968d95a",
   "metadata": {},
   "outputs": [],
   "source": [
    "df4['link']='https://www.amazon.com/dp/'+df['productId']"
   ]
  },
  {
   "cell_type": "code",
   "execution_count": 36,
   "id": "81df9a20",
   "metadata": {},
   "outputs": [
    {
     "data": {
      "text/html": [
       "<div>\n",
       "<style scoped>\n",
       "    .dataframe tbody tr th:only-of-type {\n",
       "        vertical-align: middle;\n",
       "    }\n",
       "\n",
       "    .dataframe tbody tr th {\n",
       "        vertical-align: top;\n",
       "    }\n",
       "\n",
       "    .dataframe thead th {\n",
       "        text-align: right;\n",
       "    }\n",
       "</style>\n",
       "<table border=\"1\" class=\"dataframe\">\n",
       "  <thead>\n",
       "    <tr style=\"text-align: right;\">\n",
       "      <th></th>\n",
       "      <th>userId</th>\n",
       "      <th>productId</th>\n",
       "      <th>Rating</th>\n",
       "      <th>link</th>\n",
       "    </tr>\n",
       "  </thead>\n",
       "  <tbody>\n",
       "    <tr>\n",
       "      <th>72043</th>\n",
       "      <td>A2YRX8J4WM5BRX</td>\n",
       "      <td>B00004ZCJE</td>\n",
       "      <td>5.0</td>\n",
       "      <td>https://www.amazon.com/dp/B00004ZCJE</td>\n",
       "    </tr>\n",
       "    <tr>\n",
       "      <th>72059</th>\n",
       "      <td>AU627A4UGIW6V</td>\n",
       "      <td>B00004ZCJE</td>\n",
       "      <td>5.0</td>\n",
       "      <td>https://www.amazon.com/dp/B00004ZCJE</td>\n",
       "    </tr>\n",
       "    <tr>\n",
       "      <th>72077</th>\n",
       "      <td>A16RL0RMRF974O</td>\n",
       "      <td>B00004ZCJE</td>\n",
       "      <td>5.0</td>\n",
       "      <td>https://www.amazon.com/dp/B00004ZCJE</td>\n",
       "    </tr>\n",
       "    <tr>\n",
       "      <th>72121</th>\n",
       "      <td>AR8LWDT6TUKNZ</td>\n",
       "      <td>B00004ZCJE</td>\n",
       "      <td>5.0</td>\n",
       "      <td>https://www.amazon.com/dp/B00004ZCJE</td>\n",
       "    </tr>\n",
       "    <tr>\n",
       "      <th>72122</th>\n",
       "      <td>AD9ZL63H0VKCZ</td>\n",
       "      <td>B00004ZCJE</td>\n",
       "      <td>5.0</td>\n",
       "      <td>https://www.amazon.com/dp/B00004ZCJE</td>\n",
       "    </tr>\n",
       "    <tr>\n",
       "      <th>...</th>\n",
       "      <td>...</td>\n",
       "      <td>...</td>\n",
       "      <td>...</td>\n",
       "      <td>...</td>\n",
       "    </tr>\n",
       "    <tr>\n",
       "      <th>7820340</th>\n",
       "      <td>AIJQU979J6UFY</td>\n",
       "      <td>B00K91DB7Y</td>\n",
       "      <td>4.0</td>\n",
       "      <td>https://www.amazon.com/dp/B00K91DB7Y</td>\n",
       "    </tr>\n",
       "    <tr>\n",
       "      <th>7820346</th>\n",
       "      <td>ALDAF4VVLFRHP</td>\n",
       "      <td>B00K91DB7Y</td>\n",
       "      <td>4.0</td>\n",
       "      <td>https://www.amazon.com/dp/B00K91DB7Y</td>\n",
       "    </tr>\n",
       "    <tr>\n",
       "      <th>7820356</th>\n",
       "      <td>A1BT6TL7UCIC5Y</td>\n",
       "      <td>B00K91DB7Y</td>\n",
       "      <td>5.0</td>\n",
       "      <td>https://www.amazon.com/dp/B00K91DB7Y</td>\n",
       "    </tr>\n",
       "    <tr>\n",
       "      <th>7820367</th>\n",
       "      <td>A3M7BCQKSQAK4L</td>\n",
       "      <td>B00K91DB7Y</td>\n",
       "      <td>5.0</td>\n",
       "      <td>https://www.amazon.com/dp/B00K91DB7Y</td>\n",
       "    </tr>\n",
       "    <tr>\n",
       "      <th>7820385</th>\n",
       "      <td>A3D5B2CBFNJB0K</td>\n",
       "      <td>B00K91DB7Y</td>\n",
       "      <td>3.0</td>\n",
       "      <td>https://www.amazon.com/dp/B00K91DB7Y</td>\n",
       "    </tr>\n",
       "  </tbody>\n",
       "</table>\n",
       "<p>16666 rows × 4 columns</p>\n",
       "</div>"
      ],
      "text/plain": [
       "                 userId   productId  Rating  \\\n",
       "72043    A2YRX8J4WM5BRX  B00004ZCJE     5.0   \n",
       "72059     AU627A4UGIW6V  B00004ZCJE     5.0   \n",
       "72077    A16RL0RMRF974O  B00004ZCJE     5.0   \n",
       "72121     AR8LWDT6TUKNZ  B00004ZCJE     5.0   \n",
       "72122     AD9ZL63H0VKCZ  B00004ZCJE     5.0   \n",
       "...                 ...         ...     ...   \n",
       "7820340   AIJQU979J6UFY  B00K91DB7Y     4.0   \n",
       "7820346   ALDAF4VVLFRHP  B00K91DB7Y     4.0   \n",
       "7820356  A1BT6TL7UCIC5Y  B00K91DB7Y     5.0   \n",
       "7820367  A3M7BCQKSQAK4L  B00K91DB7Y     5.0   \n",
       "7820385  A3D5B2CBFNJB0K  B00K91DB7Y     3.0   \n",
       "\n",
       "                                         link  \n",
       "72043    https://www.amazon.com/dp/B00004ZCJE  \n",
       "72059    https://www.amazon.com/dp/B00004ZCJE  \n",
       "72077    https://www.amazon.com/dp/B00004ZCJE  \n",
       "72121    https://www.amazon.com/dp/B00004ZCJE  \n",
       "72122    https://www.amazon.com/dp/B00004ZCJE  \n",
       "...                                       ...  \n",
       "7820340  https://www.amazon.com/dp/B00K91DB7Y  \n",
       "7820346  https://www.amazon.com/dp/B00K91DB7Y  \n",
       "7820356  https://www.amazon.com/dp/B00K91DB7Y  \n",
       "7820367  https://www.amazon.com/dp/B00K91DB7Y  \n",
       "7820385  https://www.amazon.com/dp/B00K91DB7Y  \n",
       "\n",
       "[16666 rows x 4 columns]"
      ]
     },
     "execution_count": 36,
     "metadata": {},
     "output_type": "execute_result"
    }
   ],
   "source": [
    "df4"
   ]
  },
  {
   "cell_type": "code",
   "execution_count": 37,
   "id": "9c14d078",
   "metadata": {},
   "outputs": [
    {
     "data": {
      "text/plain": [
       "72043      https://www.amazon.com/dp/B00004ZCJE\n",
       "72059      https://www.amazon.com/dp/B00004ZCJE\n",
       "72077      https://www.amazon.com/dp/B00004ZCJE\n",
       "72121      https://www.amazon.com/dp/B00004ZCJE\n",
       "72122      https://www.amazon.com/dp/B00004ZCJE\n",
       "                           ...                 \n",
       "7820340    https://www.amazon.com/dp/B00K91DB7Y\n",
       "7820346    https://www.amazon.com/dp/B00K91DB7Y\n",
       "7820356    https://www.amazon.com/dp/B00K91DB7Y\n",
       "7820367    https://www.amazon.com/dp/B00K91DB7Y\n",
       "7820385    https://www.amazon.com/dp/B00K91DB7Y\n",
       "Name: link, Length: 16666, dtype: object"
      ]
     },
     "execution_count": 37,
     "metadata": {},
     "output_type": "execute_result"
    }
   ],
   "source": [
    "df4.loc[:,'link']"
   ]
  },
  {
   "cell_type": "code",
   "execution_count": 38,
   "id": "a890f0bb",
   "metadata": {},
   "outputs": [],
   "source": [
    "final_data=df4"
   ]
  },
  {
   "cell_type": "code",
   "execution_count": 39,
   "id": "9acd3fed",
   "metadata": {},
   "outputs": [
    {
     "data": {
      "text/html": [
       "<div>\n",
       "<style scoped>\n",
       "    .dataframe tbody tr th:only-of-type {\n",
       "        vertical-align: middle;\n",
       "    }\n",
       "\n",
       "    .dataframe tbody tr th {\n",
       "        vertical-align: top;\n",
       "    }\n",
       "\n",
       "    .dataframe thead th {\n",
       "        text-align: right;\n",
       "    }\n",
       "</style>\n",
       "<table border=\"1\" class=\"dataframe\">\n",
       "  <thead>\n",
       "    <tr style=\"text-align: right;\">\n",
       "      <th>userId</th>\n",
       "      <th>A100UD67AHFODS</th>\n",
       "      <th>A100WO06OQR8BQ</th>\n",
       "      <th>A105S56ODHGJEK</th>\n",
       "      <th>A105TOJ6LTVMBG</th>\n",
       "      <th>A10AFVU66A79Y1</th>\n",
       "      <th>A10H24TDLK2VDP</th>\n",
       "      <th>A10NMELR4KX0J6</th>\n",
       "      <th>A10O7THJ2O20AG</th>\n",
       "      <th>A10PEXB6XAQ5XF</th>\n",
       "      <th>A10X9ME6R66JDX</th>\n",
       "      <th>...</th>\n",
       "      <th>AYOTEJ617O60K</th>\n",
       "      <th>AYP0YPLSP9ISM</th>\n",
       "      <th>AZ515FFZ7I2P7</th>\n",
       "      <th>AZ8XSDMIX04VJ</th>\n",
       "      <th>AZAC8O310IK4E</th>\n",
       "      <th>AZBXKUH4AIW3X</th>\n",
       "      <th>AZCE11PSTCH1L</th>\n",
       "      <th>AZMY6E8B52L2T</th>\n",
       "      <th>AZNUHQSHZHSUE</th>\n",
       "      <th>AZOK5STV85FBJ</th>\n",
       "    </tr>\n",
       "    <tr>\n",
       "      <th>productId</th>\n",
       "      <th></th>\n",
       "      <th></th>\n",
       "      <th></th>\n",
       "      <th></th>\n",
       "      <th></th>\n",
       "      <th></th>\n",
       "      <th></th>\n",
       "      <th></th>\n",
       "      <th></th>\n",
       "      <th></th>\n",
       "      <th></th>\n",
       "      <th></th>\n",
       "      <th></th>\n",
       "      <th></th>\n",
       "      <th></th>\n",
       "      <th></th>\n",
       "      <th></th>\n",
       "      <th></th>\n",
       "      <th></th>\n",
       "      <th></th>\n",
       "      <th></th>\n",
       "    </tr>\n",
       "  </thead>\n",
       "  <tbody>\n",
       "    <tr>\n",
       "      <th>B00004ZCJE</th>\n",
       "      <td>0.0</td>\n",
       "      <td>0.0</td>\n",
       "      <td>0.0</td>\n",
       "      <td>0.0</td>\n",
       "      <td>0.0</td>\n",
       "      <td>0.0</td>\n",
       "      <td>0.0</td>\n",
       "      <td>0.0</td>\n",
       "      <td>0.0</td>\n",
       "      <td>0.0</td>\n",
       "      <td>...</td>\n",
       "      <td>0.0</td>\n",
       "      <td>0.0</td>\n",
       "      <td>0.0</td>\n",
       "      <td>0.0</td>\n",
       "      <td>0.0</td>\n",
       "      <td>0.0</td>\n",
       "      <td>0.0</td>\n",
       "      <td>0.0</td>\n",
       "      <td>0.0</td>\n",
       "      <td>0.0</td>\n",
       "    </tr>\n",
       "    <tr>\n",
       "      <th>B00005LEN4</th>\n",
       "      <td>0.0</td>\n",
       "      <td>0.0</td>\n",
       "      <td>0.0</td>\n",
       "      <td>0.0</td>\n",
       "      <td>0.0</td>\n",
       "      <td>0.0</td>\n",
       "      <td>0.0</td>\n",
       "      <td>0.0</td>\n",
       "      <td>0.0</td>\n",
       "      <td>0.0</td>\n",
       "      <td>...</td>\n",
       "      <td>0.0</td>\n",
       "      <td>0.0</td>\n",
       "      <td>0.0</td>\n",
       "      <td>0.0</td>\n",
       "      <td>0.0</td>\n",
       "      <td>0.0</td>\n",
       "      <td>0.0</td>\n",
       "      <td>0.0</td>\n",
       "      <td>0.0</td>\n",
       "      <td>0.0</td>\n",
       "    </tr>\n",
       "    <tr>\n",
       "      <th>B00005T3G0</th>\n",
       "      <td>0.0</td>\n",
       "      <td>0.0</td>\n",
       "      <td>0.0</td>\n",
       "      <td>0.0</td>\n",
       "      <td>0.0</td>\n",
       "      <td>0.0</td>\n",
       "      <td>0.0</td>\n",
       "      <td>0.0</td>\n",
       "      <td>0.0</td>\n",
       "      <td>0.0</td>\n",
       "      <td>...</td>\n",
       "      <td>0.0</td>\n",
       "      <td>0.0</td>\n",
       "      <td>0.0</td>\n",
       "      <td>0.0</td>\n",
       "      <td>0.0</td>\n",
       "      <td>0.0</td>\n",
       "      <td>0.0</td>\n",
       "      <td>5.0</td>\n",
       "      <td>0.0</td>\n",
       "      <td>0.0</td>\n",
       "    </tr>\n",
       "    <tr>\n",
       "      <th>B000067RT6</th>\n",
       "      <td>0.0</td>\n",
       "      <td>0.0</td>\n",
       "      <td>0.0</td>\n",
       "      <td>0.0</td>\n",
       "      <td>0.0</td>\n",
       "      <td>0.0</td>\n",
       "      <td>0.0</td>\n",
       "      <td>5.0</td>\n",
       "      <td>0.0</td>\n",
       "      <td>0.0</td>\n",
       "      <td>...</td>\n",
       "      <td>0.0</td>\n",
       "      <td>0.0</td>\n",
       "      <td>0.0</td>\n",
       "      <td>0.0</td>\n",
       "      <td>0.0</td>\n",
       "      <td>0.0</td>\n",
       "      <td>0.0</td>\n",
       "      <td>0.0</td>\n",
       "      <td>0.0</td>\n",
       "      <td>0.0</td>\n",
       "    </tr>\n",
       "    <tr>\n",
       "      <th>B00006B7DA</th>\n",
       "      <td>0.0</td>\n",
       "      <td>0.0</td>\n",
       "      <td>0.0</td>\n",
       "      <td>0.0</td>\n",
       "      <td>0.0</td>\n",
       "      <td>0.0</td>\n",
       "      <td>0.0</td>\n",
       "      <td>0.0</td>\n",
       "      <td>0.0</td>\n",
       "      <td>0.0</td>\n",
       "      <td>...</td>\n",
       "      <td>0.0</td>\n",
       "      <td>0.0</td>\n",
       "      <td>0.0</td>\n",
       "      <td>0.0</td>\n",
       "      <td>0.0</td>\n",
       "      <td>0.0</td>\n",
       "      <td>0.0</td>\n",
       "      <td>0.0</td>\n",
       "      <td>5.0</td>\n",
       "      <td>0.0</td>\n",
       "    </tr>\n",
       "    <tr>\n",
       "      <th>...</th>\n",
       "      <td>...</td>\n",
       "      <td>...</td>\n",
       "      <td>...</td>\n",
       "      <td>...</td>\n",
       "      <td>...</td>\n",
       "      <td>...</td>\n",
       "      <td>...</td>\n",
       "      <td>...</td>\n",
       "      <td>...</td>\n",
       "      <td>...</td>\n",
       "      <td>...</td>\n",
       "      <td>...</td>\n",
       "      <td>...</td>\n",
       "      <td>...</td>\n",
       "      <td>...</td>\n",
       "      <td>...</td>\n",
       "      <td>...</td>\n",
       "      <td>...</td>\n",
       "      <td>...</td>\n",
       "      <td>...</td>\n",
       "      <td>...</td>\n",
       "    </tr>\n",
       "    <tr>\n",
       "      <th>B00IX2VGFA</th>\n",
       "      <td>0.0</td>\n",
       "      <td>0.0</td>\n",
       "      <td>0.0</td>\n",
       "      <td>0.0</td>\n",
       "      <td>0.0</td>\n",
       "      <td>0.0</td>\n",
       "      <td>0.0</td>\n",
       "      <td>0.0</td>\n",
       "      <td>0.0</td>\n",
       "      <td>0.0</td>\n",
       "      <td>...</td>\n",
       "      <td>0.0</td>\n",
       "      <td>0.0</td>\n",
       "      <td>0.0</td>\n",
       "      <td>0.0</td>\n",
       "      <td>0.0</td>\n",
       "      <td>0.0</td>\n",
       "      <td>0.0</td>\n",
       "      <td>0.0</td>\n",
       "      <td>0.0</td>\n",
       "      <td>0.0</td>\n",
       "    </tr>\n",
       "    <tr>\n",
       "      <th>B00JC5Y6WM</th>\n",
       "      <td>0.0</td>\n",
       "      <td>0.0</td>\n",
       "      <td>5.0</td>\n",
       "      <td>0.0</td>\n",
       "      <td>0.0</td>\n",
       "      <td>0.0</td>\n",
       "      <td>0.0</td>\n",
       "      <td>0.0</td>\n",
       "      <td>0.0</td>\n",
       "      <td>0.0</td>\n",
       "      <td>...</td>\n",
       "      <td>0.0</td>\n",
       "      <td>0.0</td>\n",
       "      <td>0.0</td>\n",
       "      <td>0.0</td>\n",
       "      <td>0.0</td>\n",
       "      <td>0.0</td>\n",
       "      <td>0.0</td>\n",
       "      <td>0.0</td>\n",
       "      <td>0.0</td>\n",
       "      <td>0.0</td>\n",
       "    </tr>\n",
       "    <tr>\n",
       "      <th>B00JF0D7RE</th>\n",
       "      <td>0.0</td>\n",
       "      <td>0.0</td>\n",
       "      <td>0.0</td>\n",
       "      <td>0.0</td>\n",
       "      <td>0.0</td>\n",
       "      <td>0.0</td>\n",
       "      <td>0.0</td>\n",
       "      <td>0.0</td>\n",
       "      <td>0.0</td>\n",
       "      <td>0.0</td>\n",
       "      <td>...</td>\n",
       "      <td>0.0</td>\n",
       "      <td>0.0</td>\n",
       "      <td>0.0</td>\n",
       "      <td>0.0</td>\n",
       "      <td>0.0</td>\n",
       "      <td>0.0</td>\n",
       "      <td>0.0</td>\n",
       "      <td>0.0</td>\n",
       "      <td>0.0</td>\n",
       "      <td>0.0</td>\n",
       "    </tr>\n",
       "    <tr>\n",
       "      <th>B00JP12170</th>\n",
       "      <td>0.0</td>\n",
       "      <td>0.0</td>\n",
       "      <td>0.0</td>\n",
       "      <td>0.0</td>\n",
       "      <td>0.0</td>\n",
       "      <td>0.0</td>\n",
       "      <td>0.0</td>\n",
       "      <td>0.0</td>\n",
       "      <td>4.0</td>\n",
       "      <td>0.0</td>\n",
       "      <td>...</td>\n",
       "      <td>0.0</td>\n",
       "      <td>0.0</td>\n",
       "      <td>0.0</td>\n",
       "      <td>0.0</td>\n",
       "      <td>0.0</td>\n",
       "      <td>0.0</td>\n",
       "      <td>0.0</td>\n",
       "      <td>0.0</td>\n",
       "      <td>0.0</td>\n",
       "      <td>0.0</td>\n",
       "    </tr>\n",
       "    <tr>\n",
       "      <th>B00K91DB7Y</th>\n",
       "      <td>0.0</td>\n",
       "      <td>1.0</td>\n",
       "      <td>0.0</td>\n",
       "      <td>0.0</td>\n",
       "      <td>0.0</td>\n",
       "      <td>0.0</td>\n",
       "      <td>0.0</td>\n",
       "      <td>0.0</td>\n",
       "      <td>0.0</td>\n",
       "      <td>0.0</td>\n",
       "      <td>...</td>\n",
       "      <td>0.0</td>\n",
       "      <td>0.0</td>\n",
       "      <td>0.0</td>\n",
       "      <td>0.0</td>\n",
       "      <td>0.0</td>\n",
       "      <td>0.0</td>\n",
       "      <td>0.0</td>\n",
       "      <td>0.0</td>\n",
       "      <td>0.0</td>\n",
       "      <td>0.0</td>\n",
       "    </tr>\n",
       "  </tbody>\n",
       "</table>\n",
       "<p>397 rows × 1493 columns</p>\n",
       "</div>"
      ],
      "text/plain": [
       "userId      A100UD67AHFODS  A100WO06OQR8BQ  A105S56ODHGJEK  A105TOJ6LTVMBG  \\\n",
       "productId                                                                    \n",
       "B00004ZCJE             0.0             0.0             0.0             0.0   \n",
       "B00005LEN4             0.0             0.0             0.0             0.0   \n",
       "B00005T3G0             0.0             0.0             0.0             0.0   \n",
       "B000067RT6             0.0             0.0             0.0             0.0   \n",
       "B00006B7DA             0.0             0.0             0.0             0.0   \n",
       "...                    ...             ...             ...             ...   \n",
       "B00IX2VGFA             0.0             0.0             0.0             0.0   \n",
       "B00JC5Y6WM             0.0             0.0             5.0             0.0   \n",
       "B00JF0D7RE             0.0             0.0             0.0             0.0   \n",
       "B00JP12170             0.0             0.0             0.0             0.0   \n",
       "B00K91DB7Y             0.0             1.0             0.0             0.0   \n",
       "\n",
       "userId      A10AFVU66A79Y1  A10H24TDLK2VDP  A10NMELR4KX0J6  A10O7THJ2O20AG  \\\n",
       "productId                                                                    \n",
       "B00004ZCJE             0.0             0.0             0.0             0.0   \n",
       "B00005LEN4             0.0             0.0             0.0             0.0   \n",
       "B00005T3G0             0.0             0.0             0.0             0.0   \n",
       "B000067RT6             0.0             0.0             0.0             5.0   \n",
       "B00006B7DA             0.0             0.0             0.0             0.0   \n",
       "...                    ...             ...             ...             ...   \n",
       "B00IX2VGFA             0.0             0.0             0.0             0.0   \n",
       "B00JC5Y6WM             0.0             0.0             0.0             0.0   \n",
       "B00JF0D7RE             0.0             0.0             0.0             0.0   \n",
       "B00JP12170             0.0             0.0             0.0             0.0   \n",
       "B00K91DB7Y             0.0             0.0             0.0             0.0   \n",
       "\n",
       "userId      A10PEXB6XAQ5XF  A10X9ME6R66JDX  ...  AYOTEJ617O60K  AYP0YPLSP9ISM  \\\n",
       "productId                                   ...                                 \n",
       "B00004ZCJE             0.0             0.0  ...            0.0            0.0   \n",
       "B00005LEN4             0.0             0.0  ...            0.0            0.0   \n",
       "B00005T3G0             0.0             0.0  ...            0.0            0.0   \n",
       "B000067RT6             0.0             0.0  ...            0.0            0.0   \n",
       "B00006B7DA             0.0             0.0  ...            0.0            0.0   \n",
       "...                    ...             ...  ...            ...            ...   \n",
       "B00IX2VGFA             0.0             0.0  ...            0.0            0.0   \n",
       "B00JC5Y6WM             0.0             0.0  ...            0.0            0.0   \n",
       "B00JF0D7RE             0.0             0.0  ...            0.0            0.0   \n",
       "B00JP12170             4.0             0.0  ...            0.0            0.0   \n",
       "B00K91DB7Y             0.0             0.0  ...            0.0            0.0   \n",
       "\n",
       "userId      AZ515FFZ7I2P7  AZ8XSDMIX04VJ  AZAC8O310IK4E  AZBXKUH4AIW3X  \\\n",
       "productId                                                                \n",
       "B00004ZCJE            0.0            0.0            0.0            0.0   \n",
       "B00005LEN4            0.0            0.0            0.0            0.0   \n",
       "B00005T3G0            0.0            0.0            0.0            0.0   \n",
       "B000067RT6            0.0            0.0            0.0            0.0   \n",
       "B00006B7DA            0.0            0.0            0.0            0.0   \n",
       "...                   ...            ...            ...            ...   \n",
       "B00IX2VGFA            0.0            0.0            0.0            0.0   \n",
       "B00JC5Y6WM            0.0            0.0            0.0            0.0   \n",
       "B00JF0D7RE            0.0            0.0            0.0            0.0   \n",
       "B00JP12170            0.0            0.0            0.0            0.0   \n",
       "B00K91DB7Y            0.0            0.0            0.0            0.0   \n",
       "\n",
       "userId      AZCE11PSTCH1L  AZMY6E8B52L2T  AZNUHQSHZHSUE  AZOK5STV85FBJ  \n",
       "productId                                                               \n",
       "B00004ZCJE            0.0            0.0            0.0            0.0  \n",
       "B00005LEN4            0.0            0.0            0.0            0.0  \n",
       "B00005T3G0            0.0            5.0            0.0            0.0  \n",
       "B000067RT6            0.0            0.0            0.0            0.0  \n",
       "B00006B7DA            0.0            0.0            5.0            0.0  \n",
       "...                   ...            ...            ...            ...  \n",
       "B00IX2VGFA            0.0            0.0            0.0            0.0  \n",
       "B00JC5Y6WM            0.0            0.0            0.0            0.0  \n",
       "B00JF0D7RE            0.0            0.0            0.0            0.0  \n",
       "B00JP12170            0.0            0.0            0.0            0.0  \n",
       "B00K91DB7Y            0.0            0.0            0.0            0.0  \n",
       "\n",
       "[397 rows x 1493 columns]"
      ]
     },
     "execution_count": 39,
     "metadata": {},
     "output_type": "execute_result"
    }
   ],
   "source": [
    "pt=final_data.pivot_table(index='productId',columns='userId',values='Rating')\n",
    "pt.fillna(0, inplace=True)\n",
    "pt"
   ]
  },
  {
   "cell_type": "code",
   "execution_count": 43,
   "id": "84eedf85",
   "metadata": {},
   "outputs": [],
   "source": [
    "from sklearn.metrics import pairwise_distances\n",
    "from scipy.spatial.distance import cosine, correlation\n",
    "from sklearn.metrics.pairwise import cosine_similarity"
   ]
  },
  {
   "cell_type": "code",
   "execution_count": 44,
   "id": "75d34356",
   "metadata": {},
   "outputs": [],
   "source": [
    "similarity_score_c=cosine_similarity(pt)"
   ]
  },
  {
   "cell_type": "code",
   "execution_count": 45,
   "id": "7ab28935",
   "metadata": {},
   "outputs": [
    {
     "data": {
      "text/plain": [
       "array([[1.        , 0.10415475, 0.10691223, ..., 0.04328465, 0.04724751,\n",
       "        0.03932177],\n",
       "       [0.10415475, 1.        , 0.        , ..., 0.        , 0.02599587,\n",
       "        0.        ],\n",
       "       [0.10691223, 0.        , 1.        , ..., 0.03692452, 0.        ,\n",
       "        0.03438254],\n",
       "       ...,\n",
       "       [0.04328465, 0.        , 0.03692452, ..., 1.        , 0.03762734,\n",
       "        0.        ],\n",
       "       [0.04724751, 0.02599587, 0.        , ..., 0.03762734, 1.        ,\n",
       "        0.11887544],\n",
       "       [0.03932177, 0.        , 0.03438254, ..., 0.        , 0.11887544,\n",
       "        1.        ]])"
      ]
     },
     "execution_count": 45,
     "metadata": {},
     "output_type": "execute_result"
    }
   ],
   "source": [
    "similarity_score_c"
   ]
  },
  {
   "cell_type": "code",
   "execution_count": 46,
   "id": "1b2a50e5",
   "metadata": {},
   "outputs": [
    {
     "data": {
      "text/plain": [
       "array([1.        , 0.10415475, 0.10691223, 0.        , 0.02000882,\n",
       "       0.12389983, 0.05120318, 0.17230713, 0.10318487, 0.        ,\n",
       "       0.02886359, 0.06723242, 0.12512153, 0.09699887, 0.        ,\n",
       "       0.0290774 , 0.07425777, 0.03322753, 0.01618668, 0.03845398,\n",
       "       0.        , 0.0282494 , 0.07818422, 0.1298499 , 0.07612228,\n",
       "       0.04015559, 0.04682067, 0.04247913, 0.04516508, 0.04822782,\n",
       "       0.05867823, 0.        , 0.05020591, 0.08693256, 0.14586761,\n",
       "       0.02905041, 0.06993671, 0.        , 0.02266136, 0.07236586,\n",
       "       0.05048117, 0.03656047, 0.        , 0.03715008, 0.14119221,\n",
       "       0.        , 0.01297012, 0.0853823 , 0.06569972, 0.05214582,\n",
       "       0.09169417, 0.0888603 , 0.04338442, 0.03927292, 0.05069769,\n",
       "       0.06508347, 0.00555329, 0.01974298, 0.03756696, 0.        ,\n",
       "       0.03037019, 0.05465281, 0.01066803, 0.05336592, 0.0567343 ,\n",
       "       0.09196979, 0.05195446, 0.01825663, 0.09445819, 0.06330087,\n",
       "       0.04229241, 0.06042417, 0.06495492, 0.        , 0.02345896,\n",
       "       0.016338  , 0.        , 0.02165164, 0.02278008, 0.02161462,\n",
       "       0.        , 0.00523077, 0.04856005, 0.07274229, 0.06858772,\n",
       "       0.05350645, 0.07783819, 0.05250512, 0.03735289, 0.        ,\n",
       "       0.05325988, 0.03625731, 0.06224643, 0.        , 0.07450744,\n",
       "       0.        , 0.01029268, 0.06543079, 0.01542515, 0.03438658,\n",
       "       0.02674011, 0.07470406, 0.03665562, 0.03559663, 0.03803517,\n",
       "       0.        , 0.06283372, 0.05262522, 0.04001917, 0.04361901,\n",
       "       0.        , 0.05127017, 0.08586047, 0.03191108, 0.02595941,\n",
       "       0.07482297, 0.04275985, 0.04683306, 0.03588416, 0.03336574,\n",
       "       0.04809605, 0.03093295, 0.09868333, 0.        , 0.        ,\n",
       "       0.05165168, 0.14411298, 0.04478917, 0.05882278, 0.0060751 ,\n",
       "       0.        , 0.0216663 , 0.        , 0.01268812, 0.01788611,\n",
       "       0.02511765, 0.01495693, 0.04687437, 0.06717518, 0.        ,\n",
       "       0.01316165, 0.09003969, 0.0461161 , 0.05343332, 0.03847812,\n",
       "       0.06594931, 0.02645392, 0.01956032, 0.01814339, 0.07068656,\n",
       "       0.        , 0.        , 0.        , 0.02702107, 0.02223202,\n",
       "       0.02844975, 0.05102828, 0.        , 0.        , 0.02807752,\n",
       "       0.03209717, 0.02683562, 0.02631261, 0.02804177, 0.0297196 ,\n",
       "       0.02822465, 0.04976436, 0.02097044, 0.05938295, 0.04839555,\n",
       "       0.06448558, 0.01728778, 0.07767195, 0.0582761 , 0.06772495,\n",
       "       0.08489011, 0.        , 0.06173988, 0.05604157, 0.02894173,\n",
       "       0.02323417, 0.01483831, 0.01023097, 0.        , 0.02051085,\n",
       "       0.        , 0.08692655, 0.04750571, 0.        , 0.01912983,\n",
       "       0.01812561, 0.02956809, 0.        , 0.04180536, 0.17423064,\n",
       "       0.02452468, 0.02161686, 0.03288204, 0.        , 0.        ,\n",
       "       0.05313847, 0.03094567, 0.02910446, 0.05799332, 0.0163577 ,\n",
       "       0.05102828, 0.05417274, 0.0473222 , 0.04507815, 0.04067839,\n",
       "       0.04504347, 0.        , 0.        , 0.09207046, 0.03863827,\n",
       "       0.07355323, 0.        , 0.09623537, 0.        , 0.06161796,\n",
       "       0.05298942, 0.        , 0.10196652, 0.0172531 , 0.        ,\n",
       "       0.01579659, 0.01817553, 0.01794537, 0.043185  , 0.03354958,\n",
       "       0.04215282, 0.0159323 , 0.06713024, 0.09135983, 0.01524064,\n",
       "       0.0247727 , 0.        , 0.06670847, 0.11214619, 0.0495614 ,\n",
       "       0.        , 0.02288228, 0.03461518, 0.        , 0.02119577,\n",
       "       0.05484299, 0.05285745, 0.02320815, 0.03045881, 0.04465776,\n",
       "       0.04943795, 0.03791628, 0.04263664, 0.01423779, 0.01081518,\n",
       "       0.13029148, 0.        , 0.01677399, 0.04867213, 0.01703956,\n",
       "       0.03238659, 0.01905818, 0.06445798, 0.01379543, 0.01171841,\n",
       "       0.05232864, 0.02885889, 0.        , 0.04005299, 0.02732578,\n",
       "       0.05629993, 0.02366839, 0.04985642, 0.        , 0.0333295 ,\n",
       "       0.03726824, 0.03372226, 0.07622567, 0.0081399 , 0.00987149,\n",
       "       0.01570413, 0.07631154, 0.05701826, 0.03891211, 0.        ,\n",
       "       0.02084487, 0.02870301, 0.03988663, 0.05107449, 0.05470313,\n",
       "       0.04025109, 0.        , 0.03303419, 0.04289222, 0.04004621,\n",
       "       0.0406329 , 0.        , 0.01384185, 0.03294574, 0.05183107,\n",
       "       0.04186613, 0.01634435, 0.03241084, 0.03494325, 0.        ,\n",
       "       0.05648408, 0.02086045, 0.06171115, 0.02153063, 0.01115395,\n",
       "       0.        , 0.01602721, 0.01255385, 0.04002911, 0.        ,\n",
       "       0.07542598, 0.05775085, 0.01917002, 0.06191107, 0.04036174,\n",
       "       0.01338886, 0.02014746, 0.0554467 , 0.02474046, 0.06172115,\n",
       "       0.03678792, 0.02403374, 0.03521971, 0.        , 0.06491535,\n",
       "       0.04721116, 0.02240385, 0.00421644, 0.03218951, 0.03543607,\n",
       "       0.04218628, 0.02219437, 0.03376535, 0.05400026, 0.02359314,\n",
       "       0.        , 0.        , 0.0098839 , 0.05913499, 0.        ,\n",
       "       0.02019238, 0.04354943, 0.        , 0.01963646, 0.        ,\n",
       "       0.04166442, 0.0114104 , 0.00809011, 0.01706985, 0.        ,\n",
       "       0.06224406, 0.01224473, 0.        , 0.02113774, 0.        ,\n",
       "       0.04721918, 0.01913608, 0.0133279 , 0.        , 0.        ,\n",
       "       0.        , 0.06517045, 0.01495693, 0.03283148, 0.02267924,\n",
       "       0.0342091 , 0.        , 0.        , 0.05006457, 0.04060584,\n",
       "       0.02775993, 0.03414645, 0.04063323, 0.        , 0.0314804 ,\n",
       "       0.04742322, 0.        , 0.02363838, 0.01313994, 0.04524048,\n",
       "       0.        , 0.041288  , 0.04303455, 0.02345276, 0.02226986,\n",
       "       0.08349828, 0.02466016, 0.03861216, 0.        , 0.04328465,\n",
       "       0.04724751, 0.03932177])"
      ]
     },
     "execution_count": 46,
     "metadata": {},
     "output_type": "execute_result"
    }
   ],
   "source": [
    "similarity_score_c[0]"
   ]
  },
  {
   "cell_type": "code",
   "execution_count": 48,
   "id": "435bd3c8",
   "metadata": {},
   "outputs": [
    {
     "data": {
      "text/plain": [
       "(397, 397)"
      ]
     },
     "execution_count": 48,
     "metadata": {},
     "output_type": "execute_result"
    }
   ],
   "source": [
    "similarity_score_c.shape"
   ]
  },
  {
   "cell_type": "code",
   "execution_count": 56,
   "id": "2a816dff",
   "metadata": {},
   "outputs": [],
   "source": [
    "index=np.where(pt.index=='B00JP12170')[0][0]\n",
    "similar_items=sorted(list(enumerate(similarity_score_c[index])), key=lambda x:x[1] , reverse=True) [1:0]\n",
    "similar_items\n",
    "\n",
    "for i in similar_items:\n",
    "    print (pt.index[i[0]])"
   ]
  },
  {
   "cell_type": "code",
   "execution_count": 62,
   "id": "5c1e7485",
   "metadata": {},
   "outputs": [],
   "source": [
    "def recommend(item_ID):\n",
    "    index=np.where(pt.index==item_ID)[0][0]\n",
    "    similar_items=sorted(list(enumerate(similarity_score_c[index])), key=lambda x:x[1] , reverse=True) [1:6]\n",
    "    similar_items\n",
    "    for i in similar_items:\n",
    "        print (pt.index[i[0]])\n",
    "    "
   ]
  },
  {
   "cell_type": "code",
   "execution_count": 63,
   "id": "b0aa61e5",
   "metadata": {},
   "outputs": [
    {
     "name": "stdout",
     "output_type": "stream",
     "text": [
      "B009HQCAPQ\n",
      "B00BOHNYU6\n",
      "B00EOE4G4E\n",
      "B0079TOEQQ\n",
      "B004CLYEFK\n"
     ]
    }
   ],
   "source": [
    "recommend('B00JP12170')"
   ]
  },
  {
   "cell_type": "code",
   "execution_count": 64,
   "id": "8ecbbb73",
   "metadata": {},
   "outputs": [],
   "source": [
    "from sklearn.metrics.pairwise import euclidean_distances"
   ]
  },
  {
   "cell_type": "code",
   "execution_count": 65,
   "id": "5d85abc9",
   "metadata": {},
   "outputs": [],
   "source": [
    "similarity_score_e=euclidean_distances(pt)"
   ]
  },
  {
   "cell_type": "code",
   "execution_count": 66,
   "id": "72a38131",
   "metadata": {},
   "outputs": [
    {
     "data": {
      "text/plain": [
       "array([ 0.        , 43.22036557, 43.19722213, 48.38388161, 43.89760814,\n",
       "       42.08325083, 44.36214603, 46.5295605 , 42.3083916 , 43.28972164,\n",
       "       43.24349662, 46.38965402, 46.04345773, 46.55104725, 45.69463864,\n",
       "       43.15089802, 51.42956348, 41.66533331, 44.37341546, 42.59107888,\n",
       "       43.84062043, 43.52011029, 44.45222154, 40.58324778, 49.29503018,\n",
       "       46.88283268, 45.86937976, 44.38468204, 46.9041576 , 42.63801121,\n",
       "       49.12229636, 42.24926035, 48.92851929, 50.41825066, 41.21892769,\n",
       "       43.16248371, 51.59457336, 44.        , 44.23799272, 45.21061822,\n",
       "       70.60453243, 44.39594576, 44.68780594, 49.92995093, 53.75872022,\n",
       "       43.71498599, 44.41846463, 45.66180023, 43.13930922, 42.73172124,\n",
       "       42.04759208, 52.11525688, 44.06812907, 45.26588119, 46.36809248,\n",
       "       42.84857057, 44.20407221, 42.66145802, 44.78839135, 45.97825573,\n",
       "       52.41183073, 57.78408085, 43.28972164, 46.62617291, 45.475268  ,\n",
       "       41.32795664, 42.77849927, 43.60045871, 51.29327441, 46.08687449,\n",
       "       44.45222154, 43.2087954 , 43.30127019, 43.46262762, 43.16248371,\n",
       "       45.16635916, 44.39594576, 44.21538194, 43.53159772, 44.93328388,\n",
       "       45.98912915, 45.04442252, 43.69210455, 51.        , 55.00909016,\n",
       "       45.08880127, 46.55104725, 48.90807704, 44.07947368, 45.51922671,\n",
       "       51.29327441, 44.11349   , 41.55718951, 42.91852747, 40.16217126,\n",
       "       41.77319715, 45.17742799, 43.19722213, 47.15930449, 45.36518489,\n",
       "       46.        , 42.36744033, 44.76605857, 47.04253395, 44.20407221,\n",
       "       45.50824101, 45.22167622, 43.94314509, 49.53786431, 59.05929224,\n",
       "       43.9886349 , 41.67733197, 44.47471192, 58.53204251, 44.71017781,\n",
       "       43.25505751, 44.98888752, 44.86646855, 60.26607669, 48.37354649,\n",
       "       42.95346319, 50.10987927, 57.76677246, 47.85394446, 46.18441296,\n",
       "       44.22668877, 43.05810028, 46.70117772, 59.01694672, 43.09292285,\n",
       "       40.85339643, 47.88527958, 42.98837052, 44.73253849, 47.37087713,\n",
       "       45.22167622, 45.563143  , 47.60252094, 73.72245248, 44.50842617,\n",
       "       44.21538194, 42.43819035, 44.46346815, 48.17675788, 52.44997617,\n",
       "       44.17012565, 44.42971978, 42.09513036, 43.68065934, 42.35563717,\n",
       "       43.72642222, 43.06971093, 44.32832052, 44.12482295, 43.8520239 ,\n",
       "       43.4281015 , 43.01162634, 42.15447782, 42.80186912, 43.60045871,\n",
       "       42.83689998, 53.95368384, 44.50842617, 46.33573135, 42.88356328,\n",
       "       43.53159772, 46.40043103, 44.67661581, 46.        , 46.94677838,\n",
       "       61.11464636, 53.34791467, 56.67450926, 52.79204486, 41.76122604,\n",
       "       41.29164564, 45.2437841 , 47.93745926, 44.32832052, 45.78209257,\n",
       "       48.73397172, 42.73172124, 42.46174749, 41.32795664, 45.01110974,\n",
       "       44.89988864, 42.47352116, 49.51767361, 44.30575583, 50.66557016,\n",
       "       40.85339643, 45.95650117, 47.67598976, 55.28109984, 41.0487515 ,\n",
       "       46.26013402, 44.23799272, 48.6929153 , 42.54409477, 47.22287581,\n",
       "       42.24926035, 50.0999002 , 43.13930922, 42.60281681, 44.22668877,\n",
       "       43.01162634, 51.17616633, 42.59107888, 54.67174773, 49.15282291,\n",
       "       43.53159772, 43.94314509, 44.78839135, 40.43513324, 54.34151268,\n",
       "       42.75511665, 43.37049688, 51.91338941, 43.11612227, 45.57411546,\n",
       "       43.84062043, 44.13615298, 40.76763422, 48.08326112, 42.41462012,\n",
       "       42.07136794, 43.65775991, 47.30750469, 47.04253395, 46.26013402,\n",
       "       47.93745926, 45.563143  , 43.46262762, 42.82522621, 45.26588119,\n",
       "       43.63484846, 43.02324953, 43.9886349 , 49.06118629, 43.40506883,\n",
       "       45.06661736, 43.47413024, 50.13980455, 41.        , 44.51965858,\n",
       "       56.16048433, 45.29900661, 44.5421149 , 47.59201614, 44.97777229,\n",
       "       43.43961326, 46.292548  , 44.32832052, 43.2087954 , 47.39198244,\n",
       "       67.19374971, 43.69210455, 43.88621651, 48.57983121, 43.68065934,\n",
       "       46.41120554, 48.86716689, 62.47399459, 48.17675788, 58.77074102,\n",
       "       64.83054835, 52.54521862, 60.61352984, 58.79625838, 49.979996  ,\n",
       "       70.26378868, 46.21688003, 44.78839135, 44.57577818, 43.2087954 ,\n",
       "       60.50619803, 45.69463864, 45.92385001, 45.39823785, 42.84857057,\n",
       "       44.810713  , 43.89760814, 45.66180023, 45.82575695, 44.38468204,\n",
       "       44.76605857, 44.31703961, 45.39823785, 41.96427052, 46.44351408,\n",
       "       42.07136794, 43.68065934, 46.05431576, 47.57099957, 46.93612681,\n",
       "       42.94182111, 41.59326869, 43.55456348, 46.59399103, 45.04442252,\n",
       "       44.60941605, 44.23799272, 51.83628073, 46.        , 42.86023798,\n",
       "       56.22277119, 44.754888  , 40.87786687, 44.29446918, 44.03407771,\n",
       "       45.04442252, 41.92851059, 44.88875137, 51.36146415, 44.41846463,\n",
       "       48.59012245, 44.37341546, 43.        , 46.        , 43.37049688,\n",
       "       41.95235393, 42.43819035, 48.92851929, 53.31978995, 51.1370707 ,\n",
       "       48.71344784, 42.87190222, 42.16633728, 44.93328388, 47.37087713,\n",
       "       47.81213235, 43.74928571, 44.95553359, 41.98809355, 44.87761134,\n",
       "       42.80186912, 43.87482194, 45.67274899, 44.93328388, 43.09292285,\n",
       "       45.18849411, 43.9089968 , 45.81484476, 50.45790325, 44.84417465,\n",
       "       45.254834  , 43.68065934, 44.48595284, 45.70557953, 44.95553359,\n",
       "       46.18441296, 43.73785546, 49.65883607, 43.65775991, 42.94182111,\n",
       "       44.17012565, 45.26588119, 42.68489194, 41.94043395, 43.77213726,\n",
       "       44.10215414, 46.14108798, 44.04543109, 42.67317659, 41.07310556,\n",
       "       45.88027899, 44.36214603, 45.563143  , 41.78516483, 43.58898944,\n",
       "       45.91296113, 43.58898944, 40.22437072, 43.26661531, 45.09988914,\n",
       "       43.24349662, 50.47771786, 45.08880127, 41.79712909, 42.22558466,\n",
       "       42.84857057, 43.97726685, 43.06971093, 44.23799272, 54.12023651,\n",
       "       43.61192497, 42.74342055, 42.87190222, 46.3788745 , 43.829214  ,\n",
       "       41.62931659, 45.51922671, 43.61192497, 46.87216658, 44.10215414,\n",
       "       46.04345773, 42.33202098])"
      ]
     },
     "execution_count": 66,
     "metadata": {},
     "output_type": "execute_result"
    }
   ],
   "source": [
    "similarity_score_e[0]"
   ]
  },
  {
   "cell_type": "code",
   "execution_count": 67,
   "id": "143a96b7",
   "metadata": {},
   "outputs": [
    {
     "data": {
      "text/plain": [
       "[(40, 70.60453243241541),\n",
       " (270, 70.26378868236469),\n",
       " (255, 67.19374970932937),\n",
       " (265, 64.83054835492293),\n",
       " (262, 62.473994589749104)]"
      ]
     },
     "execution_count": 67,
     "metadata": {},
     "output_type": "execute_result"
    }
   ],
   "source": [
    "sorted(list(enumerate(similarity_score_e[0])),key=lambda x:x[1],reverse=True)[1:6]"
   ]
  },
  {
   "cell_type": "code",
   "execution_count": 68,
   "id": "f8530a3b",
   "metadata": {},
   "outputs": [],
   "source": [
    "def recommend_e(item_ID):\n",
    "    index=np.where(pt.index==item_ID)[0][0]\n",
    "    similar_items=sorted(list(enumerate(similarity_score_e[index])),key=lambda x:x[1],reverse=True)[1:6]\n",
    "    \n",
    "    for i in similar_items:\n",
    "        print(pt.index[i[0]])"
   ]
  },
  {
   "cell_type": "code",
   "execution_count": 69,
   "id": "32a8682f",
   "metadata": {},
   "outputs": [
    {
     "name": "stdout",
     "output_type": "stream",
     "text": [
      "B000N99BBC\n",
      "B0088CJT4U\n",
      "B007WTAJTO\n",
      "B00829TIEK\n",
      "B00829THK0\n"
     ]
    }
   ],
   "source": [
    "recommend_e('B00004ZCJE')"
   ]
  },
  {
   "cell_type": "code",
   "execution_count": 70,
   "id": "06f89ef3",
   "metadata": {},
   "outputs": [
    {
     "data": {
      "text/html": [
       "<div>\n",
       "<style scoped>\n",
       "    .dataframe tbody tr th:only-of-type {\n",
       "        vertical-align: middle;\n",
       "    }\n",
       "\n",
       "    .dataframe tbody tr th {\n",
       "        vertical-align: top;\n",
       "    }\n",
       "\n",
       "    .dataframe thead th {\n",
       "        text-align: right;\n",
       "    }\n",
       "</style>\n",
       "<table border=\"1\" class=\"dataframe\">\n",
       "  <thead>\n",
       "    <tr style=\"text-align: right;\">\n",
       "      <th></th>\n",
       "      <th>userId</th>\n",
       "      <th>productId</th>\n",
       "      <th>Rating</th>\n",
       "      <th>link</th>\n",
       "    </tr>\n",
       "  </thead>\n",
       "  <tbody>\n",
       "    <tr>\n",
       "      <th>72043</th>\n",
       "      <td>A2YRX8J4WM5BRX</td>\n",
       "      <td>B00004ZCJE</td>\n",
       "      <td>5.0</td>\n",
       "      <td>https://www.amazon.com/dp/B00004ZCJE</td>\n",
       "    </tr>\n",
       "    <tr>\n",
       "      <th>72059</th>\n",
       "      <td>AU627A4UGIW6V</td>\n",
       "      <td>B00004ZCJE</td>\n",
       "      <td>5.0</td>\n",
       "      <td>https://www.amazon.com/dp/B00004ZCJE</td>\n",
       "    </tr>\n",
       "    <tr>\n",
       "      <th>72077</th>\n",
       "      <td>A16RL0RMRF974O</td>\n",
       "      <td>B00004ZCJE</td>\n",
       "      <td>5.0</td>\n",
       "      <td>https://www.amazon.com/dp/B00004ZCJE</td>\n",
       "    </tr>\n",
       "    <tr>\n",
       "      <th>72121</th>\n",
       "      <td>AR8LWDT6TUKNZ</td>\n",
       "      <td>B00004ZCJE</td>\n",
       "      <td>5.0</td>\n",
       "      <td>https://www.amazon.com/dp/B00004ZCJE</td>\n",
       "    </tr>\n",
       "    <tr>\n",
       "      <th>72122</th>\n",
       "      <td>AD9ZL63H0VKCZ</td>\n",
       "      <td>B00004ZCJE</td>\n",
       "      <td>5.0</td>\n",
       "      <td>https://www.amazon.com/dp/B00004ZCJE</td>\n",
       "    </tr>\n",
       "    <tr>\n",
       "      <th>...</th>\n",
       "      <td>...</td>\n",
       "      <td>...</td>\n",
       "      <td>...</td>\n",
       "      <td>...</td>\n",
       "    </tr>\n",
       "    <tr>\n",
       "      <th>7820340</th>\n",
       "      <td>AIJQU979J6UFY</td>\n",
       "      <td>B00K91DB7Y</td>\n",
       "      <td>4.0</td>\n",
       "      <td>https://www.amazon.com/dp/B00K91DB7Y</td>\n",
       "    </tr>\n",
       "    <tr>\n",
       "      <th>7820346</th>\n",
       "      <td>ALDAF4VVLFRHP</td>\n",
       "      <td>B00K91DB7Y</td>\n",
       "      <td>4.0</td>\n",
       "      <td>https://www.amazon.com/dp/B00K91DB7Y</td>\n",
       "    </tr>\n",
       "    <tr>\n",
       "      <th>7820356</th>\n",
       "      <td>A1BT6TL7UCIC5Y</td>\n",
       "      <td>B00K91DB7Y</td>\n",
       "      <td>5.0</td>\n",
       "      <td>https://www.amazon.com/dp/B00K91DB7Y</td>\n",
       "    </tr>\n",
       "    <tr>\n",
       "      <th>7820367</th>\n",
       "      <td>A3M7BCQKSQAK4L</td>\n",
       "      <td>B00K91DB7Y</td>\n",
       "      <td>5.0</td>\n",
       "      <td>https://www.amazon.com/dp/B00K91DB7Y</td>\n",
       "    </tr>\n",
       "    <tr>\n",
       "      <th>7820385</th>\n",
       "      <td>A3D5B2CBFNJB0K</td>\n",
       "      <td>B00K91DB7Y</td>\n",
       "      <td>3.0</td>\n",
       "      <td>https://www.amazon.com/dp/B00K91DB7Y</td>\n",
       "    </tr>\n",
       "  </tbody>\n",
       "</table>\n",
       "<p>16666 rows × 4 columns</p>\n",
       "</div>"
      ],
      "text/plain": [
       "                 userId   productId  Rating  \\\n",
       "72043    A2YRX8J4WM5BRX  B00004ZCJE     5.0   \n",
       "72059     AU627A4UGIW6V  B00004ZCJE     5.0   \n",
       "72077    A16RL0RMRF974O  B00004ZCJE     5.0   \n",
       "72121     AR8LWDT6TUKNZ  B00004ZCJE     5.0   \n",
       "72122     AD9ZL63H0VKCZ  B00004ZCJE     5.0   \n",
       "...                 ...         ...     ...   \n",
       "7820340   AIJQU979J6UFY  B00K91DB7Y     4.0   \n",
       "7820346   ALDAF4VVLFRHP  B00K91DB7Y     4.0   \n",
       "7820356  A1BT6TL7UCIC5Y  B00K91DB7Y     5.0   \n",
       "7820367  A3M7BCQKSQAK4L  B00K91DB7Y     5.0   \n",
       "7820385  A3D5B2CBFNJB0K  B00K91DB7Y     3.0   \n",
       "\n",
       "                                         link  \n",
       "72043    https://www.amazon.com/dp/B00004ZCJE  \n",
       "72059    https://www.amazon.com/dp/B00004ZCJE  \n",
       "72077    https://www.amazon.com/dp/B00004ZCJE  \n",
       "72121    https://www.amazon.com/dp/B00004ZCJE  \n",
       "72122    https://www.amazon.com/dp/B00004ZCJE  \n",
       "...                                       ...  \n",
       "7820340  https://www.amazon.com/dp/B00K91DB7Y  \n",
       "7820346  https://www.amazon.com/dp/B00K91DB7Y  \n",
       "7820356  https://www.amazon.com/dp/B00K91DB7Y  \n",
       "7820367  https://www.amazon.com/dp/B00K91DB7Y  \n",
       "7820385  https://www.amazon.com/dp/B00K91DB7Y  \n",
       "\n",
       "[16666 rows x 4 columns]"
      ]
     },
     "execution_count": 70,
     "metadata": {},
     "output_type": "execute_result"
    }
   ],
   "source": [
    "final_data"
   ]
  },
  {
   "cell_type": "code",
   "execution_count": 71,
   "id": "bbf58363",
   "metadata": {},
   "outputs": [],
   "source": [
    "import pickle\n",
    "pickle.dump(similarity_score_c,open('similarity_scores.pkl','wb'))\n",
    "pickle.dump(pt,open('pt.pkl','wb'))\n",
    "pickle.dump(final_data,open('items.pkl','wb'))"
   ]
  }
 ],
 "metadata": {
  "kernelspec": {
   "display_name": "Python 3 (ipykernel)",
   "language": "python",
   "name": "python3"
  },
  "language_info": {
   "codemirror_mode": {
    "name": "ipython",
    "version": 3
   },
   "file_extension": ".py",
   "mimetype": "text/x-python",
   "name": "python",
   "nbconvert_exporter": "python",
   "pygments_lexer": "ipython3",
   "version": "3.9.7"
  }
 },
 "nbformat": 4,
 "nbformat_minor": 5
}
